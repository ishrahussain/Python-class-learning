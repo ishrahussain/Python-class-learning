{
 "cells": [
  {
   "cell_type": "markdown",
   "metadata": {},
   "source": [
    "# PIAIC ISLAMABAD"
   ]
  },
  {
   "cell_type": "code",
   "execution_count": 1,
   "metadata": {},
   "outputs": [
    {
     "name": "stdout",
     "output_type": "stream",
     "text": [
      "Pakistan Zindabad\n"
     ]
    }
   ],
   "source": [
    "print(\"Pakistan Zindabad\")"
   ]
  },
  {
   "cell_type": "code",
   "execution_count": 2,
   "metadata": {},
   "outputs": [
    {
     "name": "stdout",
     "output_type": "stream",
     "text": [
      "I am Pakistani\n"
     ]
    }
   ],
   "source": [
    "print(\"I am Pakistani\")"
   ]
  },
  {
   "cell_type": "code",
   "execution_count": 4,
   "metadata": {},
   "outputs": [
    {
     "name": "stdout",
     "output_type": "stream",
     "text": [
      "Ishra Hussain\n"
     ]
    }
   ],
   "source": [
    "print(\"Ishra Hussain\")"
   ]
  },
  {
   "cell_type": "code",
   "execution_count": 5,
   "metadata": {},
   "outputs": [
    {
     "name": "stdout",
     "output_type": "stream",
     "text": [
      "PIAIC\n"
     ]
    }
   ],
   "source": [
    "print(\"PIAIC\")"
   ]
  },
  {
   "cell_type": "code",
   "execution_count": 2,
   "metadata": {},
   "outputs": [
    {
     "name": "stdout",
     "output_type": "stream",
     "text": [
      "\n",
      "PIAIC ISLAMABAD BATCH3\n",
      "Name= Ishra Hussain\n",
      "Father Name= Abdul Hussain\n",
      "University= IST\n",
      "CNIC= 111111111111\n",
      "\n"
     ]
    }
   ],
   "source": [
    "my_name=\"Ishra Hussain\"\n",
    "father_name=\"Abdul Hussain\"\n",
    "university=\"IST\"\n",
    "cnic=111111111111\n",
    "\n",
    "message= \"\"\"\n",
    "PIAIC ISLAMABAD BATCH3\n",
    "Name= {}\n",
    "Father Name= {}\n",
    "University= {}\n",
    "CNIC= {}\n",
    "\"\"\".format(my_name, father_name, university, cnic)\n",
    "\n",
    "print(message)"
   ]
  },
  {
   "cell_type": "code",
   "execution_count": 18,
   "metadata": {},
   "outputs": [
    {
     "name": "stdout",
     "output_type": "stream",
     "text": [
      "99\n"
     ]
    }
   ],
   "source": [
    "my_marks=99\n",
    "print(my_marks)"
   ]
  },
  {
   "cell_type": "code",
   "execution_count": 19,
   "metadata": {},
   "outputs": [
    {
     "name": "stdout",
     "output_type": "stream",
     "text": [
      "89.98\n"
     ]
    }
   ],
   "source": [
    "percentage=89.98\n",
    "print(percentage)"
   ]
  },
  {
   "cell_type": "raw",
   "metadata": {},
   "source": [
    "function add(c)\n",
    "{\n",
    "c=a+b;\n",
    "return c;\n",
    "}"
   ]
  },
  {
   "cell_type": "code",
   "execution_count": 1,
   "metadata": {},
   "outputs": [],
   "source": [
    "print??\n",
    "print?\n",
    "?print"
   ]
  },
  {
   "cell_type": "code",
   "execution_count": null,
   "metadata": {},
   "outputs": [],
   "source": [
    "help(print)"
   ]
  }
 ],
 "metadata": {
  "kernelspec": {
   "display_name": "Python 3",
   "language": "python",
   "name": "python3"
  },
  "language_info": {
   "codemirror_mode": {
    "name": "ipython",
    "version": 3
   },
   "file_extension": ".py",
   "mimetype": "text/x-python",
   "name": "python",
   "nbconvert_exporter": "python",
   "pygments_lexer": "ipython3",
   "version": "3.7.3"
  }
 },
 "nbformat": 4,
 "nbformat_minor": 2
}
