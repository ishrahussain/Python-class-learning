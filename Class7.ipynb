{
 "cells": [
  {
   "cell_type": "markdown",
   "metadata": {},
   "source": [
    "# Functions:"
   ]
  },
  {
   "cell_type": "markdown",
   "metadata": {},
   "source": [
    "- Required arguments\n",
    "- Optional arguments\n",
    "- return\n",
    "- non return\n",
    "- default arguments\n",
    "- positional arguments\n",
    "- keyword arguments\n",
    "- arguments with list\n",
    "- argument with dictionary\n",
    "- pre defined functions\n",
    "- user define functions"
   ]
  },
  {
   "cell_type": "markdown",
   "metadata": {},
   "source": [
    "Functions is an activity that is performed repeatedly (pre-defined instructions), it is a set of statements (in a process in real world).\n",
    "Functions are of two types:\n",
    "- Pre-defined functions: already created functions\n",
    "- User-defined functions: user define those functions"
   ]
  },
  {
   "cell_type": "markdown",
   "metadata": {},
   "source": [
    "Process of Function:\n",
    "- Function declaration\n",
    "- Function body defined: set of instructions for function using some parameters\n",
    "- Calling function: By passing some arguments"
   ]
  },
  {
   "cell_type": "markdown",
   "metadata": {},
   "source": [
    "- Default functions:\n",
    "It doesn't take any arguments from user when called, e.g today, date etc.\n",
    "\n",
    "- Required arguments Functions: \n",
    "That require some arguments, while calling function, doesn't work without it\n",
    "\n",
    "- Default arguments functions: \n",
    "It require arguments but not necessary, if not given function will execute with default arguments defined in function\n",
    "\n",
    "- Recursive Function: \n",
    "Call itself within its body(repeat) is called recursive function (like paralell mirror image is infinite)\n",
    "\n",
    "- Generator Function: \n",
    "It doesnt allocate data to memory, e.g. range function to generate a sequence, it creates values one by one and we can break, it remembers its previous return values\n",
    "\n",
    "- Lambda Functions: \n",
    "Single line function and function without any name, cannot use before defining and can't use it after execution\n",
    "\n",
    "- Positional arguments: \n",
    "Position has important role in these function, pass arguments according to their correct position\n",
    "\n",
    "- Keyword Arguments: \n",
    "Value given when calling function is keyword arguments, position doesnt matter e.g sum(x=1, y=3)\n",
    "\n",
    "- Argument with List: \n",
    "Each arguments of function call from ist one by one, use * before name of list to use it one by one e.g. *l1\n",
    "\n",
    "- Argument with Dictionary:\n",
    "pass arguments from dictionary using ** before dictionary name e.g. **d1, key and value passed as arguments\n",
    "\n",
    "- Return Function\n",
    "if value can be assigned to a varaible is return function"
   ]
  },
  {
   "cell_type": "raw",
   "metadata": {},
   "source": [
    "It experts by sir qasim: Youtube channel has all python videos"
   ]
  },
  {
   "cell_type": "markdown",
   "metadata": {},
   "source": [
    "## Pre-defined Functions"
   ]
  },
  {
   "cell_type": "code",
   "execution_count": 11,
   "metadata": {},
   "outputs": [
    {
     "name": "stdout",
     "output_type": "stream",
     "text": [
      "Ishra\n",
      "5\n",
      "<class 'int'>\n",
      "2345478609976\n"
     ]
    }
   ],
   "source": [
    "# Already defined functions like len, type, id etc.\n",
    "print(\"Ishra\")\n",
    "print(len(\"PIAIC\"))\n",
    "print(type(12))\n",
    "print(id(\"AI\"))"
   ]
  },
  {
   "cell_type": "markdown",
   "metadata": {},
   "source": [
    "## User Defined Functions"
   ]
  },
  {
   "cell_type": "code",
   "execution_count": 5,
   "metadata": {},
   "outputs": [
    {
     "name": "stdout",
     "output_type": "stream",
     "text": [
      "Pakistan Livelong\n",
      "I am Paksitani\n",
      "I love Pakistan\n"
     ]
    }
   ],
   "source": [
    "print(\"Pakistan Livelong\")\n",
    "print(\"I am Paksitani\")\n",
    "print(\"I love Pakistan\")"
   ]
  },
  {
   "cell_type": "code",
   "execution_count": 1,
   "metadata": {},
   "outputs": [
    {
     "name": "stdout",
     "output_type": "stream",
     "text": [
      "Pakistan Livelong\n",
      "I am Pakistani\n",
      "I love Pakistan\n",
      "Pakistan Livelong\n",
      "I am Pakistani\n",
      "I love Pakistan\n",
      "Pakistan Livelong\n",
      "I am Pakistani\n",
      "I love Pakistan\n"
     ]
    }
   ],
   "source": [
    "#Use def keyword to define function, funcname(parameter1, parameter2, ....), after colon it has four spaces for intend\n",
    "def prn(): #function declaration\n",
    "    #body of function\n",
    "    print(\"Pakistan Livelong\") \n",
    "    print(\"I am Pakistani\")\n",
    "    print(\"I love Pakistan\")\n",
    "\n",
    "prn() #calling function\n",
    "prn()\n",
    "prn()"
   ]
  },
  {
   "cell_type": "markdown",
   "metadata": {},
   "source": [
    "- Linear programming: Write one line for each task, had no function\n",
    "- Functional Programming: (procedural programming/ sub routine programming): It gives block structures for any task, efficient code. \n",
    "However linear prog is fast(time efficient) for interprator"
   ]
  },
  {
   "cell_type": "code",
   "execution_count": 10,
   "metadata": {},
   "outputs": [
    {
     "name": "stdout",
     "output_type": "stream",
     "text": [
      "Pakistan Livelong\n",
      "I am Paksitani\n",
      "I love Pakistan\n",
      "xyz\n",
      "Pakistan Livelong\n",
      "I am Paksitani\n",
      "I love Pakistan\n"
     ]
    }
   ],
   "source": [
    "prn() #interprator matches it with its defination, interprator has to perform lots of function, has time delay\n",
    "print(\"xyz\")\n",
    "prn()"
   ]
  },
  {
   "cell_type": "markdown",
   "metadata": {},
   "source": [
    "## Required Arguments"
   ]
  },
  {
   "cell_type": "code",
   "execution_count": 2,
   "metadata": {},
   "outputs": [
    {
     "name": "stdout",
     "output_type": "stream",
     "text": [
      "\n",
      "    -------------------------------\n",
      "            PIAIC Islamabad\n",
      "    -------------------------------\n",
      "        ID = 1\n",
      "        Name = Ishra Hussain\n",
      "        Father Name = Abdul Hussain\n",
      "        Course = AI\n",
      "        Timing = 9:00am-12:00pm\n",
      "    -------------------------------\n",
      "    \n"
     ]
    }
   ],
   "source": [
    "# Generate card for PIAIC Students\n",
    "def id_card(sid, sname, fname, course, timing):\n",
    "    text = \"\"\"\n",
    "    -------------------------------\n",
    "            PIAIC Islamabad\n",
    "    -------------------------------\n",
    "        ID = {}\n",
    "        Name = {}\n",
    "        Father Name = {}\n",
    "        Course = {}\n",
    "        Timing = {}\n",
    "    -------------------------------\n",
    "    \"\"\".format(sid, sname, fname, course, timing)\n",
    "    print(text)\n",
    "\n",
    "id_card(1, \"Ishra Hussain\", \"Abdul Hussain\", \"AI\", \"9:00am-12:00pm\")"
   ]
  },
  {
   "cell_type": "code",
   "execution_count": 21,
   "metadata": {},
   "outputs": [
    {
     "name": "stdout",
     "output_type": "stream",
     "text": [
      "\n",
      "    -------------------------------\n",
      "            PIAIC Islamabad\n",
      "    -------------------------------\n",
      "        ID = 2\n",
      "        Name = Bushra Hashmi\n",
      "        Father Name = Jamil Hashmi\n",
      "        Course = IOT\n",
      "        Timing = 12:00pm-3:00pm\n",
      "    -------------------------------\n",
      "    \n"
     ]
    }
   ],
   "source": [
    "id_card(2, \"Bushra Hashmi\", \"Jamil Hashmi\", \"IOT\", \"12:00pm-3:00pm\")"
   ]
  },
  {
   "cell_type": "raw",
   "metadata": {},
   "source": [
    "local variable: called within function body\n",
    "global variable: called outside as well"
   ]
  },
  {
   "cell_type": "code",
   "execution_count": 4,
   "metadata": {},
   "outputs": [],
   "source": [
    "data = [[1, \"Ishra Hussain\", \"Abdul Hussain\", \"AI\", \"9:00am-12:00pm\"],\\\n",
    "        [2, \"Bushra Hashmi\", \"Jamil Hashmi\", \"IOT\", \"12:00pm-3:00pm\"],\\\n",
    "        [3, \"Muhammad Ammad\", \"Muhammad Ramzan\", \"IT\", \"3:00pm-6:00pm\"],\\\n",
    "        [4, \"Sami Ullah\", \"Abdul Hussain\", \"BSEE\", \"9:00am-12:00pm\"]]"
   ]
  },
  {
   "cell_type": "code",
   "execution_count": 6,
   "metadata": {},
   "outputs": [
    {
     "name": "stdout",
     "output_type": "stream",
     "text": [
      "\n",
      "    -------------------------------\n",
      "            PIAIC Islamabad\n",
      "    -------------------------------\n",
      "        ID = 1\n",
      "        Name = Ishra Hussain\n",
      "        Father Name = Abdul Hussain\n",
      "        Course = AI\n",
      "        Timing = 9:00am-12:00pm\n",
      "    -------------------------------\n",
      "    \n",
      "\n",
      "    -------------------------------\n",
      "            PIAIC Islamabad\n",
      "    -------------------------------\n",
      "        ID = 2\n",
      "        Name = Bushra Hashmi\n",
      "        Father Name = Jamil Hashmi\n",
      "        Course = IOT\n",
      "        Timing = 12:00pm-3:00pm\n",
      "    -------------------------------\n",
      "    \n",
      "\n",
      "    -------------------------------\n",
      "            PIAIC Islamabad\n",
      "    -------------------------------\n",
      "        ID = 3\n",
      "        Name = Muhammad Ammad\n",
      "        Father Name = Muhammad Ramzan\n",
      "        Course = IT\n",
      "        Timing = 3:00pm-6:00pm\n",
      "    -------------------------------\n",
      "    \n",
      "\n",
      "    -------------------------------\n",
      "            PIAIC Islamabad\n",
      "    -------------------------------\n",
      "        ID = 4\n",
      "        Name = Sami Ullah\n",
      "        Father Name = Abdul Hussain\n",
      "        Course = BSEE\n",
      "        Timing = 9:00am-12:00pm\n",
      "    -------------------------------\n",
      "    \n"
     ]
    }
   ],
   "source": [
    "for v in data: # one way of passing values from list\n",
    "    id_card(v[0],v[1],v[2],v[3],v[4])"
   ]
  },
  {
   "cell_type": "code",
   "execution_count": 24,
   "metadata": {},
   "outputs": [
    {
     "name": "stdout",
     "output_type": "stream",
     "text": [
      "\n",
      "    -------------------------------\n",
      "            PIAIC Islamabad\n",
      "    -------------------------------\n",
      "        ID = 1\n",
      "        Name = Ishra Hussain\n",
      "        Father Name = Abdul Hussain\n",
      "        Course = AI\n",
      "        Timing = 9:00am-12:00pm\n",
      "    -------------------------------\n",
      "    \n",
      "\n",
      "    -------------------------------\n",
      "            PIAIC Islamabad\n",
      "    -------------------------------\n",
      "        ID = 2\n",
      "        Name = Bushra Hashmi\n",
      "        Father Name = Jamil Hashmi\n",
      "        Course = IOT\n",
      "        Timing = 12:00pm-3:00pm\n",
      "    -------------------------------\n",
      "    \n",
      "\n",
      "    -------------------------------\n",
      "            PIAIC Islamabad\n",
      "    -------------------------------\n",
      "        ID = 3\n",
      "        Name = Muhammad Ammad\n",
      "        Father Name = Muhammad Ramzan\n",
      "        Course = IT\n",
      "        Timing = 3:00pm-6:00pm\n",
      "    -------------------------------\n",
      "    \n",
      "\n",
      "    -------------------------------\n",
      "            PIAIC Islamabad\n",
      "    -------------------------------\n",
      "        ID = 4\n",
      "        Name = Sami Ullah\n",
      "        Father Name = Abdul Hussain\n",
      "        Course = BSEE\n",
      "        Timing = 9:00am-12:00pm\n",
      "    -------------------------------\n",
      "    \n"
     ]
    }
   ],
   "source": [
    "for v in data:\n",
    "    id_card(*v)"
   ]
  },
  {
   "cell_type": "markdown",
   "metadata": {},
   "source": [
    "## Optional Arguments"
   ]
  },
  {
   "cell_type": "code",
   "execution_count": 37,
   "metadata": {},
   "outputs": [],
   "source": [
    "def addition(x, y = 0, z = 0): #non return function cannot assign to a variable\n",
    "    print(\"Sum is\", x + y + z)"
   ]
  },
  {
   "cell_type": "code",
   "execution_count": 38,
   "metadata": {},
   "outputs": [
    {
     "name": "stdout",
     "output_type": "stream",
     "text": [
      "Sum is 5\n"
     ]
    }
   ],
   "source": [
    "addition(5)"
   ]
  },
  {
   "cell_type": "code",
   "execution_count": 39,
   "metadata": {},
   "outputs": [
    {
     "name": "stdout",
     "output_type": "stream",
     "text": [
      "Sum is 11\n"
     ]
    }
   ],
   "source": [
    "addition(9, 2)"
   ]
  },
  {
   "cell_type": "code",
   "execution_count": 40,
   "metadata": {},
   "outputs": [
    {
     "name": "stdout",
     "output_type": "stream",
     "text": [
      "Sum is 9\n"
     ]
    }
   ],
   "source": [
    "addition(3, 4, 2)"
   ]
  },
  {
   "cell_type": "markdown",
   "metadata": {},
   "source": [
    "## Non Return Function"
   ]
  },
  {
   "cell_type": "code",
   "execution_count": 43,
   "metadata": {},
   "outputs": [
    {
     "name": "stdout",
     "output_type": "stream",
     "text": [
      "ishra\n",
      "None\n"
     ]
    }
   ],
   "source": [
    "a = print(\"ishra\") #non return function cannot assign to a variable\n",
    "print(a)"
   ]
  },
  {
   "cell_type": "code",
   "execution_count": 45,
   "metadata": {},
   "outputs": [
    {
     "name": "stdout",
     "output_type": "stream",
     "text": [
      "Sum is 7\n",
      "None\n"
     ]
    }
   ],
   "source": [
    "b = addition(2, 5)\n",
    "print(b)"
   ]
  },
  {
   "cell_type": "markdown",
   "metadata": {},
   "source": [
    "## Return Function "
   ]
  },
  {
   "cell_type": "code",
   "execution_count": 49,
   "metadata": {},
   "outputs": [],
   "source": [
    "# Generate card for PIAIC Students using return function\n",
    "def id_card(sid, sname, fname, course, timing):\n",
    "    text = \"\"\"\n",
    "    -------------------------------\n",
    "            PIAIC Islamabad\n",
    "    -------------------------------\n",
    "        ID = {}\n",
    "        Name = {}\n",
    "        Father Name = {}\n",
    "        Course = {}\n",
    "        Timing = {}\n",
    "    -------------------------------\n",
    "    \"\"\".format(sid, sname, fname, course, timing)\n",
    "    return text #statments after return dont execute\n",
    "    return \"ishra\""
   ]
  },
  {
   "cell_type": "code",
   "execution_count": 48,
   "metadata": {},
   "outputs": [
    {
     "name": "stdout",
     "output_type": "stream",
     "text": [
      "\n",
      "    -------------------------------\n",
      "            PIAIC Islamabad\n",
      "    -------------------------------\n",
      "        ID = 1\n",
      "        Name = Ishra Hussain\n",
      "        Father Name = Abdul Hussain\n",
      "        Course = AI\n",
      "        Timing = 9:00am-12:00pm\n",
      "    -------------------------------\n",
      "    \n"
     ]
    }
   ],
   "source": [
    "card = id_card(1, \"Ishra Hussain\", \"Abdul Hussain\", \"AI\", \"9:00am-12:00pm\") # retun function assigned to a variable\n",
    "print(card)"
   ]
  },
  {
   "cell_type": "code",
   "execution_count": 7,
   "metadata": {},
   "outputs": [],
   "source": [
    "# Generate card for PIAIC Students using return function\n",
    "def id_card(sid, sname, fname, course, timing):\n",
    "    text = \"\"\"\n",
    "    -------------------------------\n",
    "            PIAIC Islamabad\n",
    "    -------------------------------\n",
    "        ID = {}\n",
    "        Name = {}\n",
    "        Father Name = {}\n",
    "        Course = {}\n",
    "        Timing = {}\n",
    "    -------------------------------\n",
    "    \"\"\".format(sid, sname, fname, course, timing)\n",
    "    return text, \"ishra\", \"hussain\" #return in tuple"
   ]
  },
  {
   "cell_type": "code",
   "execution_count": 8,
   "metadata": {},
   "outputs": [
    {
     "name": "stdout",
     "output_type": "stream",
     "text": [
      "\n",
      "    -------------------------------\n",
      "            PIAIC Islamabad\n",
      "    -------------------------------\n",
      "        ID = 1\n",
      "        Name = Ishra Hussain\n",
      "        Father Name = Abdul Hussain\n",
      "        Course = AI\n",
      "        Timing = 9:00am-12:00pm\n",
      "    -------------------------------\n",
      "     ishra hussain\n"
     ]
    }
   ],
   "source": [
    "card = id_card(1, \"Ishra Hussain\", \"Abdul Hussain\", \"AI\", \"9:00am-12:00pm\") # retun function assigned to a variable\n",
    "print(*card)"
   ]
  },
  {
   "cell_type": "code",
   "execution_count": 9,
   "metadata": {},
   "outputs": [
    {
     "name": "stdout",
     "output_type": "stream",
     "text": [
      "('\\n    -------------------------------\\n            PIAIC Islamabad\\n    -------------------------------\\n        ID = 1\\n        Name = Ishra Hussain\\n        Father Name = Abdul Hussain\\n        Course = AI\\n        Timing = 9:00am-12:00pm\\n    -------------------------------\\n    ', 'ishra', 'hussain')\n"
     ]
    }
   ],
   "source": [
    "print(card) # returns as a tuple"
   ]
  },
  {
   "cell_type": "code",
   "execution_count": 11,
   "metadata": {},
   "outputs": [
    {
     "name": "stdout",
     "output_type": "stream",
     "text": [
      "hussain\n"
     ]
    }
   ],
   "source": [
    "print(card[2])"
   ]
  },
  {
   "cell_type": "code",
   "execution_count": 54,
   "metadata": {},
   "outputs": [
    {
     "name": "stdout",
     "output_type": "stream",
     "text": [
      "\n",
      "    -------------------------------\n",
      "            PIAIC Islamabad\n",
      "    -------------------------------\n",
      "        ID = 1\n",
      "        Name = Ishra Hussain\n",
      "        Father Name = Abdul Hussain\n",
      "        Course = AI\n",
      "        Timing = 9:00am-12:00pm\n",
      "    -------------------------------\n",
      "    \n"
     ]
    }
   ],
   "source": [
    "print(card[0])"
   ]
  },
  {
   "cell_type": "code",
   "execution_count": 55,
   "metadata": {},
   "outputs": [
    {
     "name": "stdout",
     "output_type": "stream",
     "text": [
      "ishra\n"
     ]
    }
   ],
   "source": [
    "print(card[1])"
   ]
  },
  {
   "cell_type": "code",
   "execution_count": 69,
   "metadata": {},
   "outputs": [],
   "source": [
    "#create a fucntion abc having arguments x, y, z all optional, return funct, it returns x+y*z\n",
    "def abc (x = 0, y = 0, z = 0):\n",
    "    return x + y * z"
   ]
  },
  {
   "cell_type": "code",
   "execution_count": 70,
   "metadata": {},
   "outputs": [
    {
     "data": {
      "text/plain": [
       "0"
      ]
     },
     "execution_count": 70,
     "metadata": {},
     "output_type": "execute_result"
    }
   ],
   "source": [
    "abc()"
   ]
  },
  {
   "cell_type": "code",
   "execution_count": 71,
   "metadata": {},
   "outputs": [
    {
     "data": {
      "text/plain": [
       "8"
      ]
     },
     "execution_count": 71,
     "metadata": {},
     "output_type": "execute_result"
    }
   ],
   "source": [
    "abc(2,3,2)"
   ]
  },
  {
   "cell_type": "markdown",
   "metadata": {},
   "source": [
    "## Keyword Arguments"
   ]
  },
  {
   "cell_type": "code",
   "execution_count": 72,
   "metadata": {},
   "outputs": [],
   "source": [
    "def id_card(sid, sname, fname, course, timing):\n",
    "    text = \"\"\"\n",
    "    -------------------------------\n",
    "            PIAIC Islamabad\n",
    "    -------------------------------\n",
    "        ID = {}\n",
    "        Name = {}\n",
    "        Father Name = {}\n",
    "        Course = {}\n",
    "        Timing = {}\n",
    "    -------------------------------\n",
    "    \"\"\".format(sid, sname, fname, course, timing)\n",
    "    return text"
   ]
  },
  {
   "cell_type": "code",
   "execution_count": 74,
   "metadata": {},
   "outputs": [
    {
     "name": "stdout",
     "output_type": "stream",
     "text": [
      "\n",
      "    -------------------------------\n",
      "            PIAIC Islamabad\n",
      "    -------------------------------\n",
      "        ID = Ishra Hussain\n",
      "        Name = Abdul Hussain\n",
      "        Father Name = 1\n",
      "        Course = AI\n",
      "        Timing = 9:00am-12:00pm\n",
      "    -------------------------------\n",
      "    \n"
     ]
    }
   ],
   "source": [
    "card = id_card(\"Ishra Hussain\", \"Abdul Hussain\", 1, \"AI\", \"9:00am-12:00pm\") # position matters\n",
    "print(card)"
   ]
  },
  {
   "cell_type": "code",
   "execution_count": 76,
   "metadata": {},
   "outputs": [
    {
     "name": "stdout",
     "output_type": "stream",
     "text": [
      "\n",
      "    -------------------------------\n",
      "            PIAIC Islamabad\n",
      "    -------------------------------\n",
      "        ID = 1\n",
      "        Name = Ishra Hussain\n",
      "        Father Name = Abdul Hussain\n",
      "        Course = AI\n",
      "        Timing = 9:00am-12:00pm\n",
      "    -------------------------------\n",
      "    \n"
     ]
    }
   ],
   "source": [
    "# use keyword argument\n",
    "card = id_card(sname= \"Ishra Hussain\", fname= \"Abdul Hussain\",sid= 1, course= \"AI\", timing= \"9:00am-12:00pm\") \n",
    "# retun function assigned to a variable\n",
    "print(card)"
   ]
  },
  {
   "cell_type": "code",
   "execution_count": 80,
   "metadata": {},
   "outputs": [
    {
     "name": "stdout",
     "output_type": "stream",
     "text": [
      "\n",
      "    -------------------------------\n",
      "            PIAIC Islamabad\n",
      "    -------------------------------\n",
      "        ID = 1\n",
      "        Name = Ishra Hussain\n",
      "        Father Name = Abdul Hussain\n",
      "        Course = AI\n",
      "        Timing = 9:00am-12:00pm\n",
      "    -------------------------------\n",
      "    \n"
     ]
    }
   ],
   "source": [
    "#              p      p              k      w      k       w               k         w\n",
    "card = id_card(1, \"Ishra Hussain\", course= \"AI\", fname= \"Abdul Hussain\", timing= \"9:00am-12:00pm\") \n",
    "# first pass positional arguments which we know, then pass keyword arguments\n",
    "# positional argument follows keyword argument\n",
    "print(card)"
   ]
  },
  {
   "cell_type": "markdown",
   "metadata": {},
   "source": [
    "## Argument with List"
   ]
  },
  {
   "cell_type": "code",
   "execution_count": 81,
   "metadata": {},
   "outputs": [],
   "source": [
    "def id_card(sid, sname, fname, course, timing):\n",
    "    text = \"\"\"\n",
    "    -------------------------------\n",
    "            PIAIC Islamabad\n",
    "    -------------------------------\n",
    "        ID = {}\n",
    "        Name = {}\n",
    "        Father Name = {}\n",
    "        Course = {}\n",
    "        Timing = {}\n",
    "    -------------------------------\n",
    "    \"\"\".format(sid, sname, fname, course, timing)\n",
    "    return text"
   ]
  },
  {
   "cell_type": "code",
   "execution_count": 92,
   "metadata": {},
   "outputs": [
    {
     "name": "stdout",
     "output_type": "stream",
     "text": [
      "\n",
      "    -------------------------------\n",
      "            PIAIC Islamabad\n",
      "    -------------------------------\n",
      "        ID = 1\n",
      "        Name = Ishra Hussain\n",
      "        Father Name = Abdul Hussain\n",
      "        Course = AI\n",
      "        Timing = 9:00am-12:00pm\n",
      "    -------------------------------\n",
      "    \n",
      "\n",
      "    -------------------------------\n",
      "            PIAIC Islamabad\n",
      "    -------------------------------\n",
      "        ID = 2\n",
      "        Name = Bushra Hashmi\n",
      "        Father Name = Jamil Hashmi\n",
      "        Course = IOT\n",
      "        Timing = 12:00pm-3:00pm\n",
      "    -------------------------------\n",
      "    \n",
      "\n",
      "    -------------------------------\n",
      "            PIAIC Islamabad\n",
      "    -------------------------------\n",
      "        ID = 3\n",
      "        Name = Muhammad Ammad\n",
      "        Father Name = Muhammad Ramzan\n",
      "        Course = IT\n",
      "        Timing = 3:00pm-6:00pm\n",
      "    -------------------------------\n",
      "    \n",
      "\n",
      "    -------------------------------\n",
      "            PIAIC Islamabad\n",
      "    -------------------------------\n",
      "        ID = 4\n",
      "        Name = Sami Ullah\n",
      "        Father Name = Abdul Hussain\n",
      "        Course = BSEE\n",
      "        Timing = 9:00am-12:00pm\n",
      "    -------------------------------\n",
      "    \n"
     ]
    }
   ],
   "source": [
    "data = [[1, \"Ishra Hussain\", \"Abdul Hussain\", \"AI\", \"9:00am-12:00pm\"],\n",
    "        [2, \"Bushra Hashmi\", \"Jamil Hashmi\", \"IOT\", \"12:00pm-3:00pm\"],\n",
    "        [3, \"Muhammad Ammad\", \"Muhammad Ramzan\", \"IT\", \"3:00pm-6:00pm\"],\n",
    "        [4, \"Sami Ullah\", \"Abdul Hussain\", \"BSEE\", \"9:00am-12:00pm\"]]\n",
    "#print(id_card(data[0], data[1], data[3]))\n",
    "for v in data:\n",
    "    print(id_card(*v))\n",
    "    #print(id_card(v[0],v[1],v[2],v[3],v[4]))"
   ]
  },
  {
   "cell_type": "markdown",
   "metadata": {},
   "source": [
    "## Arguments with Dictionary"
   ]
  },
  {
   "cell_type": "code",
   "execution_count": 16,
   "metadata": {},
   "outputs": [],
   "source": [
    "def id_card(sid, sname, fname, course, timing):\n",
    "    text = \"\"\"\n",
    "    -------------------------------\n",
    "            PIAIC Islamabad\n",
    "    -------------------------------\n",
    "        ID = {}\n",
    "        Name = {}\n",
    "        Father Name = {}\n",
    "        Course = {}\n",
    "        Timing = {}\n",
    "    -------------------------------\n",
    "    \"\"\".format(sid, sname, fname, course, timing)\n",
    "    return text"
   ]
  },
  {
   "cell_type": "code",
   "execution_count": 97,
   "metadata": {},
   "outputs": [
    {
     "name": "stdout",
     "output_type": "stream",
     "text": [
      "\n",
      "    -------------------------------\n",
      "            PIAIC Islamabad\n",
      "    -------------------------------\n",
      "        ID = 1\n",
      "        Name = Ishra Hussain\n",
      "        Father Name = Abdul Hussain\n",
      "        Course = AI\n",
      "        Timing = 9:00am-12:00pm\n",
      "    -------------------------------\n",
      "    \n"
     ]
    }
   ],
   "source": [
    "d1 = {\n",
    "    \"sid\": 1, \n",
    "    \"fname\": \"Abdul Hussain\",\n",
    "    \"course\": \"AI\", \n",
    "    \"sname\": \"Ishra Hussain\",\n",
    "    \"timing\": \"9:00am-12:00pm\"   \n",
    "} # with dictionary position doesn't matter as we have key values\n",
    "print(id_card(**d1))"
   ]
  },
  {
   "cell_type": "code",
   "execution_count": 18,
   "metadata": {},
   "outputs": [
    {
     "name": "stdout",
     "output_type": "stream",
     "text": [
      "\n",
      "    -------------------------------\n",
      "            PIAIC Islamabad\n",
      "    -------------------------------\n",
      "        ID = 1\n",
      "        Name = Ishra Hussain\n",
      "        Father Name = Abdul Hussain\n",
      "        Course = AI\n",
      "        Timing = 9:00am-12:00pm\n",
      "    -------------------------------\n",
      "    \n",
      "\n",
      "    -------------------------------\n",
      "            PIAIC Islamabad\n",
      "    -------------------------------\n",
      "        ID = 2\n",
      "        Name = Tayyaba Hussain\n",
      "        Father Name = Abdul Hussain\n",
      "        Course = AI\n",
      "        Timing = 9:00am-12:00pm\n",
      "    -------------------------------\n",
      "    \n",
      "\n",
      "    -------------------------------\n",
      "            PIAIC Islamabad\n",
      "    -------------------------------\n",
      "        ID = 3\n",
      "        Name = Bushra Hashmi\n",
      "        Father Name = M Jamil\n",
      "        Course = IOT\n",
      "        Timing = 12:00pm-3:00pm\n",
      "    -------------------------------\n",
      "    \n"
     ]
    }
   ],
   "source": [
    "d1 = {\n",
    "    0 : {\n",
    "    \"sid\": 1, \n",
    "    \"fname\": \"Abdul Hussain\",\n",
    "    \"course\": \"AI\", \n",
    "    \"sname\": \"Ishra Hussain\",\n",
    "    \"timing\": \"9:00am-12:00pm\"   \n",
    "    },\n",
    "    1 : {\n",
    "    \"sid\": 2, \n",
    "    \"fname\": \"Abdul Hussain\",\n",
    "    \"course\": \"AI\", \n",
    "    \"sname\": \"Tayyaba Hussain\",\n",
    "    \"timing\": \"9:00am-12:00pm\"   \n",
    "    },\n",
    "    2: {\n",
    "    \"sid\": 3, \n",
    "    \"fname\": \"M Jamil\",\n",
    "    \"course\": \"IOT\", \n",
    "    \"sname\": \"Bushra Hashmi\",\n",
    "    \"timing\": \"12:00pm-3:00pm\"   \n",
    "    }\n",
    "}\n",
    "for v in d1.values():\n",
    "    print(id_card(**v))"
   ]
  },
  {
   "cell_type": "markdown",
   "metadata": {},
   "source": [
    "## Recursive Function"
   ]
  },
  {
   "cell_type": "code",
   "execution_count": 19,
   "metadata": {},
   "outputs": [
    {
     "name": "stdout",
     "output_type": "stream",
     "text": [
      "120\n"
     ]
    }
   ],
   "source": [
    "def fact(n):\n",
    "    if n == 1:\n",
    "        return 1\n",
    "    return n * fact(n - 1)\n",
    "    \n",
    "a = fact(5) #factorial of 5 i.e. 5*4*3*2*1\n",
    "print(a)"
   ]
  },
  {
   "cell_type": "markdown",
   "metadata": {},
   "source": [
    "## Generator Function"
   ]
  },
  {
   "cell_type": "code",
   "execution_count": 110,
   "metadata": {},
   "outputs": [
    {
     "name": "stdout",
     "output_type": "stream",
     "text": [
      "<generator object abc at 0x000002221A60AD68>\n",
      "0\n",
      "1\n",
      "2\n",
      "3\n",
      "4\n",
      "[5, 6, 7, 8, 9, 10]\n"
     ]
    }
   ],
   "source": [
    "def abc():\n",
    "    for i in range(11):\n",
    "        yield i #yield is used in generator function, picks i one by one, iterate, when calls next time, memory efficient\n",
    "        \n",
    "a = abc()\n",
    "print(a)\n",
    "\n",
    "print(next(a)) # remembers last value\n",
    "print(next(a))\n",
    "print(next(a))\n",
    "print(next(a))\n",
    "print(next(a)) # doesnt allocate next values\n",
    "\n",
    "print(list(a)) # remaining values list"
   ]
  },
  {
   "cell_type": "markdown",
   "metadata": {},
   "source": [
    "## Lambda Function"
   ]
  },
  {
   "cell_type": "code",
   "execution_count": 111,
   "metadata": {},
   "outputs": [
    {
     "data": {
      "text/plain": [
       "5"
      ]
     },
     "execution_count": 111,
     "metadata": {},
     "output_type": "execute_result"
    }
   ],
   "source": [
    "def xyz(a, b):\n",
    "    return a + b\n",
    "\n",
    "xyz(2, 3)"
   ]
  },
  {
   "cell_type": "code",
   "execution_count": 114,
   "metadata": {},
   "outputs": [
    {
     "data": {
      "text/plain": [
       "6"
      ]
     },
     "execution_count": 114,
     "metadata": {},
     "output_type": "execute_result"
    }
   ],
   "source": [
    "def xyz(a, b): return a + b\n",
    "xyz(2, 4)"
   ]
  },
  {
   "cell_type": "code",
   "execution_count": 115,
   "metadata": {},
   "outputs": [
    {
     "data": {
      "text/plain": [
       "9"
      ]
     },
     "execution_count": 115,
     "metadata": {},
     "output_type": "execute_result"
    }
   ],
   "source": [
    "xyz = lambda a, b: a + b\n",
    "xyz(2, 7)"
   ]
  },
  {
   "cell_type": "code",
   "execution_count": 131,
   "metadata": {},
   "outputs": [
    {
     "data": {
      "text/plain": [
       "4"
      ]
     },
     "execution_count": 131,
     "metadata": {},
     "output_type": "execute_result"
    }
   ],
   "source": [
    "# Perform a task using lambda, takes two numbers x and y, print x is x > y and y otherwise\n",
    "xyz = lambda x, y: x if x > y else y\n",
    "xyz(2, 4)"
   ]
  },
  {
   "cell_type": "code",
   "execution_count": null,
   "metadata": {},
   "outputs": [],
   "source": []
  }
 ],
 "metadata": {
  "kernelspec": {
   "display_name": "Python 3",
   "language": "python",
   "name": "python3"
  },
  "language_info": {
   "codemirror_mode": {
    "name": "ipython",
    "version": 3
   },
   "file_extension": ".py",
   "mimetype": "text/x-python",
   "name": "python",
   "nbconvert_exporter": "python",
   "pygments_lexer": "ipython3",
   "version": "3.7.3"
  }
 },
 "nbformat": 4,
 "nbformat_minor": 2
}
