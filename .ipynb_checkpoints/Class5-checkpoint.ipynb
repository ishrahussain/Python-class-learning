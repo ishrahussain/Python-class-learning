{
 "cells": [
  {
   "cell_type": "markdown",
   "metadata": {},
   "source": [
    "# Dictionaries"
   ]
  },
  {
   "cell_type": "code",
   "execution_count": null,
   "metadata": {},
   "outputs": [],
   "source": [
    "#get certification of smarter way to learn python by online exercises by this week\n",
    "#book python crash course study first 10 chapters (reference)\n",
    "#study chapter 2 of data science from scratch (reference)\n"
   ]
  },
  {
   "cell_type": "code",
   "execution_count": 51,
   "metadata": {},
   "outputs": [],
   "source": [
    "#python is dynamic datatype langauge, picks data type by itself\n",
    "# list is accessed against index and it is difficult to get values against index\n",
    "#list[item1, item2, item3,....]\n",
    "#    0      1        2\n",
    "l1=[123, 'Ishra', 'AI']\n",
    "#     -3    -2      -1"
   ]
  },
  {
   "cell_type": "code",
   "execution_count": 52,
   "metadata": {},
   "outputs": [
    {
     "data": {
      "text/plain": [
       "{'id': 123, 'name': 'Ishra Hussain', 'course': 'AI', 'dob': '27-04-1996'}"
      ]
     },
     "execution_count": 52,
     "metadata": {},
     "output_type": "execute_result"
    }
   ],
   "source": [
    "# so we use dictionaries\n",
    "#dict[item1, item2, item3,....]\n",
    "#item=key:value\n",
    "d1={\"id\":123 , \n",
    "    \"name\":\"Ishra Hussain\", \n",
    "    \"course\": \"AI\",\n",
    "    \"dob\":\"27-04-1996\"}\n",
    "d1"
   ]
  },
  {
   "cell_type": "code",
   "execution_count": 53,
   "metadata": {},
   "outputs": [
    {
     "data": {
      "text/plain": [
       "{'id': 1, 'name': 'Ishra', 'course': 'AI'}"
      ]
     },
     "execution_count": 53,
     "metadata": {},
     "output_type": "execute_result"
    }
   ],
   "source": [
    "d1={} #empty dictionary, key should be unique\n",
    "#adding items to dictionary against key\n",
    "#dict[key]=value\n",
    "d1[\"id\"]=1\n",
    "d1[\"name\"]=\"Ishra\"\n",
    "d1[\"course\"]=\"AI\"\n",
    "\n",
    "d1"
   ]
  },
  {
   "cell_type": "code",
   "execution_count": 1,
   "metadata": {},
   "outputs": [
    {
     "name": "stdout",
     "output_type": "stream",
     "text": [
      "id:1\n",
      "Username:ishra\n",
      "Skills:vb,c++,assembly,c\n"
     ]
    },
    {
     "data": {
      "text/plain": [
       "{'id': '1',\n",
       " 'name': 'ishra',\n",
       " 'skills': ['python', 'vb', 'c++', 'assembly', 'c']}"
      ]
     },
     "execution_count": 1,
     "metadata": {},
     "output_type": "execute_result"
    }
   ],
   "source": [
    "# user id, name, skills (multiple skills)\n",
    "id1=input(\"id:\")\n",
    "name=input(\"Username:\")\n",
    "skill=['python']\n",
    "skill1=input(\"Skills:\")\n",
    "\n",
    "#skill1=list(skill1)\n",
    "\n",
    "skill.extend(skill1.split(','))\n",
    "d1={\"id\":id1, \"name\":name, \"skills\":skill}\n",
    "d1"
   ]
  },
  {
   "cell_type": "code",
   "execution_count": 5,
   "metadata": {},
   "outputs": [
    {
     "data": {
      "text/plain": [
       "list"
      ]
     },
     "execution_count": 5,
     "metadata": {},
     "output_type": "execute_result"
    }
   ],
   "source": [
    "type(skill)"
   ]
  },
  {
   "cell_type": "code",
   "execution_count": 16,
   "metadata": {},
   "outputs": [
    {
     "data": {
      "text/plain": [
       "'123'"
      ]
     },
     "execution_count": 16,
     "metadata": {},
     "output_type": "execute_result"
    }
   ],
   "source": [
    "#to get value from list\n",
    "#list[index]\n",
    "#for dictionary\n",
    "#dict[key]\n",
    "d1[\"id\"]"
   ]
  },
  {
   "cell_type": "code",
   "execution_count": 17,
   "metadata": {},
   "outputs": [
    {
     "data": {
      "text/plain": [
       "{}"
      ]
     },
     "execution_count": 17,
     "metadata": {},
     "output_type": "execute_result"
    }
   ],
   "source": [
    "d1.clear()\n",
    "d1"
   ]
  },
  {
   "cell_type": "code",
   "execution_count": 18,
   "metadata": {},
   "outputs": [
    {
     "name": "stdout",
     "output_type": "stream",
     "text": [
      "{'id': 123, 'name': 'Ishra Hussain', 'course': 'AI', 'dob': '27-04-1996'}\n"
     ]
    },
    {
     "ename": "NameError",
     "evalue": "name 'd1' is not defined",
     "output_type": "error",
     "traceback": [
      "\u001b[1;31m---------------------------------------------------------------------------\u001b[0m",
      "\u001b[1;31mNameError\u001b[0m                                 Traceback (most recent call last)",
      "\u001b[1;32m<ipython-input-18-98597b7503b0>\u001b[0m in \u001b[0;36m<module>\u001b[1;34m\u001b[0m\n\u001b[0;32m      5\u001b[0m \u001b[0mprint\u001b[0m\u001b[1;33m(\u001b[0m\u001b[0md1\u001b[0m\u001b[1;33m)\u001b[0m\u001b[1;33m\u001b[0m\u001b[1;33m\u001b[0m\u001b[0m\n\u001b[0;32m      6\u001b[0m \u001b[1;32mdel\u001b[0m \u001b[0md1\u001b[0m\u001b[1;33m\u001b[0m\u001b[1;33m\u001b[0m\u001b[0m\n\u001b[1;32m----> 7\u001b[1;33m \u001b[0mprint\u001b[0m\u001b[1;33m(\u001b[0m\u001b[0md1\u001b[0m\u001b[1;33m)\u001b[0m\u001b[1;33m\u001b[0m\u001b[1;33m\u001b[0m\u001b[0m\n\u001b[0m",
      "\u001b[1;31mNameError\u001b[0m: name 'd1' is not defined"
     ]
    }
   ],
   "source": [
    "d1={\"id\":123 , \n",
    "    \"name\":\"Ishra Hussain\", \n",
    "    \"course\": \"AI\",\n",
    "    \"dob\":\"27-04-1996\"}\n",
    "print(d1)\n",
    "del d1 #delete removes it completely from memory\n",
    "print(d1)"
   ]
  },
  {
   "cell_type": "code",
   "execution_count": 19,
   "metadata": {},
   "outputs": [],
   "source": [
    "d1={\"id\":123 , \n",
    "    \"name\":\"Ishra Hussain\", \n",
    "    \"course\": \"AI\",\n",
    "    \"dob\":\"27-04-1996\"}"
   ]
  },
  {
   "cell_type": "code",
   "execution_count": 20,
   "metadata": {},
   "outputs": [
    {
     "data": {
      "text/plain": [
       "{'id': 123, 'name': 'Ishra Hussain', 'course': 'AI', 'dob': '27-04-1996'}"
      ]
     },
     "execution_count": 20,
     "metadata": {},
     "output_type": "execute_result"
    }
   ],
   "source": [
    "d2=d1.copy() #deep copy so pass by value, further changes in d1 wont change d2\n",
    "d2"
   ]
  },
  {
   "cell_type": "code",
   "execution_count": 21,
   "metadata": {},
   "outputs": [
    {
     "name": "stdout",
     "output_type": "stream",
     "text": [
      "{'id': 123, 'name': 'Ishra Hussain', 'course': 'AI', 'dob': '27-04-1996', 'Fname': 'abdul hussain'}\n",
      "{'id': 123, 'name': 'Ishra Hussain', 'course': 'AI', 'dob': '27-04-1996'}\n"
     ]
    }
   ],
   "source": [
    "d1[\"Fname\"]=\"abdul hussain\"\n",
    "print(d1)\n",
    "print(d2)"
   ]
  },
  {
   "cell_type": "code",
   "execution_count": 24,
   "metadata": {},
   "outputs": [
    {
     "name": "stdout",
     "output_type": "stream",
     "text": [
      "Enter First Key:EMP#\n",
      "Enter second key:Ename\n",
      "enter third key:Designation\n"
     ]
    },
    {
     "data": {
      "text/plain": [
       "{'EMP#': '', 'Ename': '', 'Designation': ''}"
      ]
     },
     "execution_count": 24,
     "metadata": {},
     "output_type": "execute_result"
    }
   ],
   "source": [
    "# user id, name, skills (multiple skills)\n",
    "d1.clear()\n",
    "key1=input(\"Enter First Key:\")\n",
    "key2=input(\"Enter second key:\")\n",
    "key3=input(\"enter third key:\")\n",
    "\n",
    "d1[key1]=''\n",
    "d1[key2]=''\n",
    "d1[key3]=''\n",
    "\n",
    "d1"
   ]
  },
  {
   "cell_type": "code",
   "execution_count": 35,
   "metadata": {},
   "outputs": [
    {
     "name": "stdout",
     "output_type": "stream",
     "text": [
      "Enter 3 Keys seperated by comma:id,name,fname\n"
     ]
    },
    {
     "data": {
      "text/plain": [
       "{'id': 'NA', 'name': 'NA', 'fname': 'NA'}"
      ]
     },
     "execution_count": 35,
     "metadata": {},
     "output_type": "execute_result"
    }
   ],
   "source": [
    "d1.clear()\n",
    "key1=input(\"Enter 3 Keys seperated by comma:\")\n",
    "key1=key1.split(sep=',')\n",
    "\n",
    "d1[key1[0]]=\"NA\"\n",
    "d1[key1[1]]=\"NA\"\n",
    "d1[key1[2]]=\"NA\"\n",
    "d1"
   ]
  },
  {
   "cell_type": "code",
   "execution_count": 42,
   "metadata": {},
   "outputs": [
    {
     "name": "stdout",
     "output_type": "stream",
     "text": [
      "Enter Keys seperated by comma:id,name,fname,dob\n",
      "Enter values seperated by comma:12,ishra,abdul hussain, 27-04-1996\n"
     ]
    },
    {
     "data": {
      "text/plain": [
       "{'id': '12', 'name': 'ishra', 'fname': 'abdul hussain', 'dob': ' 27-04-1996'}"
      ]
     },
     "execution_count": 42,
     "metadata": {},
     "output_type": "execute_result"
    }
   ],
   "source": [
    "d1.clear()\n",
    "key1=input(\"Enter Keys seperated by comma: \")\n",
    "value1=input(\"Enter values seperated by comma: \")\n",
    "key1=key1.split(sep=',')\n",
    "value1=value1.split(sep=',')\n",
    "i=0\n",
    "for i in range(0,len(value1)):\n",
    "    d1[key1[i]]=value1[i]\n",
    "d1"
   ]
  },
  {
   "cell_type": "code",
   "execution_count": 44,
   "metadata": {},
   "outputs": [
    {
     "name": "stdout",
     "output_type": "stream",
     "text": [
      "[('a', 'x'), ('b', 'y'), ('c', 'z')]\n"
     ]
    },
    {
     "data": {
      "text/plain": [
       "{'a': 'x', 'b': 'y', 'c': 'z'}"
      ]
     },
     "execution_count": 44,
     "metadata": {},
     "output_type": "execute_result"
    }
   ],
   "source": [
    "l1=['a', 'b', 'c']\n",
    "l2=['x', 'y', 'z']\n",
    "l3=list(zip(l1,l2))\n",
    "print(l3)\n",
    "d1=dict(l3)\n",
    "d1"
   ]
  },
  {
   "cell_type": "code",
   "execution_count": 45,
   "metadata": {},
   "outputs": [
    {
     "name": "stdout",
     "output_type": "stream",
     "text": [
      "Enter Keys seperated by comma: id,name,fname\n",
      "Enter values seperated by comma: 12,ishra,abdul\n",
      "[('id', '12'), ('name', 'ishra'), ('fname', 'abdul')]\n"
     ]
    },
    {
     "data": {
      "text/plain": [
       "{'id': '12', 'name': 'ishra', 'fname': 'abdul'}"
      ]
     },
     "execution_count": 45,
     "metadata": {},
     "output_type": "execute_result"
    }
   ],
   "source": [
    "d1.clear()\n",
    "key1=input(\"Enter Keys seperated by comma: \")\n",
    "value1=input(\"Enter values seperated by comma: \")\n",
    "key1=key1.split(sep=',')\n",
    "value1=value1.split(sep=',')\n",
    "l3=list(zip(key1,value1))\n",
    "print(l3)\n",
    "d1=dict(l3)\n",
    "d1"
   ]
  },
  {
   "cell_type": "code",
   "execution_count": 46,
   "metadata": {},
   "outputs": [
    {
     "name": "stdout",
     "output_type": "stream",
     "text": [
      "Enter Keys seperated by comma: id,name,fname\n",
      "Enter values seperated by comma: 12,ishra,abdul\n",
      "[('id', '12'), ('name', 'ishra'), ('fname', 'abdul')]\n"
     ]
    },
    {
     "data": {
      "text/plain": [
       "{'id': '12', 'name': 'ishra', 'fname': 'abdul'}"
      ]
     },
     "execution_count": 46,
     "metadata": {},
     "output_type": "execute_result"
    }
   ],
   "source": [
    "d1.clear()\n",
    "key1=input(\"Enter Keys seperated by comma: \").split(sep=',') #optimization to reduce number of lines in codes\n",
    "value1=input(\"Enter values seperated by comma: \").split(sep=',')\n",
    "l3=list(zip(key1,value1))\n",
    "print(l3)\n",
    "d1=dict(l3)\n",
    "d1"
   ]
  },
  {
   "cell_type": "code",
   "execution_count": 49,
   "metadata": {},
   "outputs": [
    {
     "name": "stdout",
     "output_type": "stream",
     "text": [
      "12\n",
      "None\n",
      "Key not found\n"
     ]
    }
   ],
   "source": [
    "print(d1.get('id')) #Return the value for key if key is in the dictionary, else default.\n",
    "print(d1.get('salary')) #if key not available return none\n",
    "print(d1.get('salary',\"Key not found\"))  #can also return any message"
   ]
  },
  {
   "cell_type": "code",
   "execution_count": 55,
   "metadata": {},
   "outputs": [
    {
     "name": "stdout",
     "output_type": "stream",
     "text": [
      "{'id': 123, 'name': 'Ishra Hussain', 'course': 'AI', 'dob': '27-04-1996'}\n"
     ]
    },
    {
     "data": {
      "text/plain": [
       "dict_items([('id', 123), ('name', 'Ishra Hussain'), ('course', 'AI'), ('dob', '27-04-1996')])"
      ]
     },
     "execution_count": 55,
     "metadata": {},
     "output_type": "execute_result"
    }
   ],
   "source": [
    "d1={\"id\":123 , \n",
    "    \"name\":\"Ishra Hussain\", \n",
    "    \"course\": \"AI\",\n",
    "    \"dob\":\"27-04-1996\"}\n",
    "print(d1)\n",
    "d1.items() #D.items() -> a set-like object providing a view on D's items"
   ]
  },
  {
   "cell_type": "code",
   "execution_count": 56,
   "metadata": {},
   "outputs": [
    {
     "data": {
      "text/plain": [
       "dict_keys(['id', 'name', 'course', 'dob'])"
      ]
     },
     "execution_count": 56,
     "metadata": {},
     "output_type": "execute_result"
    }
   ],
   "source": [
    "d1.keys()"
   ]
  },
  {
   "cell_type": "code",
   "execution_count": 57,
   "metadata": {},
   "outputs": [
    {
     "data": {
      "text/plain": [
       "dict_values([123, 'Ishra Hussain', 'AI', '27-04-1996'])"
      ]
     },
     "execution_count": 57,
     "metadata": {},
     "output_type": "execute_result"
    }
   ],
   "source": [
    "d1.values()"
   ]
  },
  {
   "cell_type": "code",
   "execution_count": 61,
   "metadata": {},
   "outputs": [
    {
     "name": "stdout",
     "output_type": "stream",
     "text": [
      "{'id': 123, 'name': 'Ishra Hussain', 'course': 'AI', 'dob': '27-04-1996'}\n",
      "123\n"
     ]
    },
    {
     "data": {
      "text/plain": [
       "{'name': 'Ishra Hussain', 'course': 'AI', 'dob': '27-04-1996'}"
      ]
     },
     "execution_count": 61,
     "metadata": {},
     "output_type": "execute_result"
    }
   ],
   "source": [
    "d1={\"id\":123 , \n",
    "    \"name\":\"Ishra Hussain\", \n",
    "    \"course\": \"AI\",\n",
    "    \"dob\":\"27-04-1996\"}\n",
    "print(d1)\n",
    "popped=d1.pop('id')\n",
    "print(popped)\n",
    "d1"
   ]
  },
  {
   "cell_type": "code",
   "execution_count": 62,
   "metadata": {},
   "outputs": [
    {
     "name": "stdout",
     "output_type": "stream",
     "text": [
      "{'id': 123, 'name': 'Ishra Hussain', 'course': 'AI', 'dob': '27-04-1996'}\n"
     ]
    },
    {
     "data": {
      "text/plain": [
       "('dob', '27-04-1996')"
      ]
     },
     "execution_count": 62,
     "metadata": {},
     "output_type": "execute_result"
    }
   ],
   "source": [
    "d1={\"id\":123 , \n",
    "    \"name\":\"Ishra Hussain\", \n",
    "    \"course\": \"AI\",\n",
    "    \"dob\":\"27-04-1996\"}\n",
    "print(d1)\n",
    "popped=d1.popitem()\n",
    "popped"
   ]
  },
  {
   "cell_type": "code",
   "execution_count": 64,
   "metadata": {},
   "outputs": [
    {
     "name": "stdout",
     "output_type": "stream",
     "text": [
      "{'id': 123, 'name': 'Ishra Hussain', 'course': 'AI', 'dob': '27-04-1996'}\n"
     ]
    },
    {
     "data": {
      "text/plain": [
       "{'id': 123,\n",
       " 'name': 'Ishra Hussain',\n",
       " 'course': 'AI',\n",
       " 'dob': '27-04-1996',\n",
       " 'retire date': '20-12-2040'}"
      ]
     },
     "execution_count": 64,
     "metadata": {},
     "output_type": "execute_result"
    }
   ],
   "source": [
    "d1={\"id\":123 , \n",
    "    \"name\":\"Ishra Hussain\", \n",
    "    \"course\": \"AI\",\n",
    "    \"dob\":\"27-04-1996\"}\n",
    "print(d1)\n",
    "d1.setdefault('retire date', '20-12-2040') #Insert key with a value of default if key is not in the dictionary.\n",
    "d1"
   ]
  },
  {
   "cell_type": "code",
   "execution_count": 67,
   "metadata": {},
   "outputs": [
    {
     "name": "stdout",
     "output_type": "stream",
     "text": [
      "{'id': 123, 'name': 'Ishra Hussain', 'course': 'AI', 'dob': '27-04-1996'}\n"
     ]
    },
    {
     "data": {
      "text/plain": [
       "{'id': 18900,\n",
       " 'name': 'Ishra Hussain',\n",
       " 'course': 'AI',\n",
       " 'dob': '27-04-1996',\n",
       " 'retire': '27-04-2040'}"
      ]
     },
     "execution_count": 67,
     "metadata": {},
     "output_type": "execute_result"
    }
   ],
   "source": [
    "d1={\"id\":123 , \n",
    "    \"name\":\"Ishra Hussain\", \n",
    "    \"course\": \"AI\",\n",
    "    \"dob\":\"27-04-1996\"}\n",
    "\n",
    "d2={\"id\":18900 , \n",
    "    \"name\":\"Ishra Hussain\", \n",
    "    \"course\": \"AI\",\n",
    "    \"retire\":\"27-04-2040\"}\n",
    "print(d1)\n",
    "d1.update(d2) #Update from dict/iterable \n",
    "d1"
   ]
  },
  {
   "cell_type": "code",
   "execution_count": 73,
   "metadata": {},
   "outputs": [
    {
     "name": "stdout",
     "output_type": "stream",
     "text": [
      "f 6\n",
      "e 5\n",
      "d 4\n",
      "c 3\n",
      "b 2\n",
      "a 1\n"
     ]
    }
   ],
   "source": [
    "#sort dictionary against key\n",
    "d1\n",
    "for i,j in sorted(d1.items(), reverse=True):\n",
    "    print(i,j)"
   ]
  },
  {
   "cell_type": "code",
   "execution_count": 82,
   "metadata": {},
   "outputs": [
    {
     "data": {
      "text/plain": [
       "{'f': 6, 'e': 5, 'd': 4, 'c': 3, 'b': 2, 'a': 1}"
      ]
     },
     "execution_count": 82,
     "metadata": {},
     "output_type": "execute_result"
    }
   ],
   "source": [
    "#sort dictionary against key\n",
    "d1\n",
    "list1=list(d1.keys())\n",
    "slist=sorted(list1,reverse=True)\n",
    "ndict={}\n",
    "for i in slist:\n",
    "    ndict[i]=d1[i]\n",
    "ndict"
   ]
  },
  {
   "cell_type": "code",
   "execution_count": 89,
   "metadata": {},
   "outputs": [
    {
     "data": {
      "text/plain": [
       "{'f': 1, 'a': 2, 'c': 3, 'd': 4, 'e': 5, 'b': 9}"
      ]
     },
     "execution_count": 89,
     "metadata": {},
     "output_type": "execute_result"
    }
   ],
   "source": [
    "#sort dictionary against value\n",
    "d1={'a': 2, 'b': 9, 'c': 3, 'd': 4, 'e': 5, 'f': 1}\n",
    "{k:v for k,v in sorted(d1.items(),key= lambda item: item[1])}"
   ]
  },
  {
   "cell_type": "code",
   "execution_count": 93,
   "metadata": {},
   "outputs": [
    {
     "data": {
      "text/plain": [
       "[('a', 2), ('b', 9), ('c', 3), ('d', 4), ('e', 5), ('f', 1)]"
      ]
     },
     "execution_count": 93,
     "metadata": {},
     "output_type": "execute_result"
    }
   ],
   "source": [
    "list(d1.items())"
   ]
  },
  {
   "cell_type": "code",
   "execution_count": 101,
   "metadata": {},
   "outputs": [
    {
     "data": {
      "text/plain": [
       "[('b', 9), ('e', 5), ('d', 4), ('c', 3), ('a', 2), ('f', 1)]"
      ]
     },
     "execution_count": 101,
     "metadata": {},
     "output_type": "execute_result"
    }
   ],
   "source": [
    "d1={'a': 2, 'b': 9, 'c': 3, 'd': 4, 'e': 5, 'f': 1}\n",
    "d1.items() #returns tuple\n",
    "#def abc(x):\n",
    "#       return x[1]\n",
    "sorted(d1.items(), key= lambda x:x[1], reverse=True) #lambda gives function in 1 line"
   ]
  },
  {
   "cell_type": "code",
   "execution_count": 102,
   "metadata": {},
   "outputs": [
    {
     "data": {
      "text/plain": [
       "[('b', 9), ('e', 5), ('d', 4), ('c', 3), ('a', 2), ('f', 1)]"
      ]
     },
     "execution_count": 102,
     "metadata": {},
     "output_type": "execute_result"
    }
   ],
   "source": [
    "d1={'a': 2, 'b': 9, 'c': 3, 'd': 4, 'e': 5, 'f': 1}\n",
    "d1.items() #returns tuple\n",
    "def abc(x): #function defined\n",
    "      return x[1]\n",
    "sorted(d1.items(), key= abc, reverse=True)"
   ]
  },
  {
   "cell_type": "code",
   "execution_count": 2,
   "metadata": {},
   "outputs": [
    {
     "name": "stdout",
     "output_type": "stream",
     "text": [
      "id:1\n",
      "Username:ishra\n",
      "fname:abdul\n",
      "id:2\n",
      "Username:rehan\n",
      "fname:abdul\n",
      "id:3 \n",
      "Username:sami\n",
      "fname:abdul\n"
     ]
    },
    {
     "data": {
      "text/plain": [
       "[{'id': '1', 'name': 'ishra', 'fname': 'abdul'},\n",
       " {'id': '2', 'name': 'rehan', 'fname': 'abdul'},\n",
       " {'id': '3 ', 'name': 'sami', 'fname': 'abdul'}]"
      ]
     },
     "execution_count": 2,
     "metadata": {},
     "output_type": "execute_result"
    }
   ],
   "source": [
    "#takes keys and values of 3 person and add it to list using while loop\n",
    "d1={}\n",
    "l1=[]\n",
    "i=0\n",
    "while i<3:\n",
    "    id1=input(\"id:\")\n",
    "    name=input(\"Username:\")\n",
    "    fname=input(\"fname:\")\n",
    "    d1={\"id\":id1, \"name\":name, \"fname\":fname}\n",
    "    l1.append(d1)\n",
    "    i+=1\n",
    "l1\n"
   ]
  },
  {
   "cell_type": "code",
   "execution_count": 3,
   "metadata": {},
   "outputs": [
    {
     "name": "stdout",
     "output_type": "stream",
     "text": [
      "id:1\n",
      "Username:ishra\n",
      "fname:abdul\n",
      "continue: y/ny\n",
      "id:2\n",
      "Username:bushra\n",
      "fname:jamil\n",
      "continue: y/ny\n",
      "id:3\n",
      "Username:rehan\n",
      "fname:abdul\n",
      "continue: y/nn\n"
     ]
    },
    {
     "data": {
      "text/plain": [
       "[{'id': '1', 'name': 'ishra', 'fname': 'abdul'},\n",
       " {'id': '2', 'name': 'bushra', 'fname': 'jamil'},\n",
       " {'id': '3', 'name': 'rehan', 'fname': 'abdul'}]"
      ]
     },
     "execution_count": 3,
     "metadata": {},
     "output_type": "execute_result"
    }
   ],
   "source": [
    "#takes keys and values from user and add it to list, continue adding as long as user wants to continue\n",
    "d1={}\n",
    "l1=[]\n",
    "x=''\n",
    "while x != 'n':\n",
    "    id1=input(\"id:\")\n",
    "    name=input(\"Username:\")\n",
    "    fname=input(\"fname:\")\n",
    "    x=input(\"continue: y/n\")\n",
    "    d1={\"id\":id1, \"name\":name, \"fname\":fname}\n",
    "    l1.append(d1) \n",
    "l1"
   ]
  }
 ],
 "metadata": {
  "kernelspec": {
   "display_name": "Python 3",
   "language": "python",
   "name": "python3"
  },
  "language_info": {
   "codemirror_mode": {
    "name": "ipython",
    "version": 3
   },
   "file_extension": ".py",
   "mimetype": "text/x-python",
   "name": "python",
   "nbconvert_exporter": "python",
   "pygments_lexer": "ipython3",
   "version": "3.7.3"
  }
 },
 "nbformat": 4,
 "nbformat_minor": 2
}
