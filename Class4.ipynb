{
 "cells": [
  {
   "cell_type": "markdown",
   "metadata": {},
   "source": [
    "# Lists and Tuple"
   ]
  },
  {
   "cell_type": "code",
   "execution_count": 1,
   "metadata": {},
   "outputs": [
    {
     "data": {
      "text/plain": [
       "['__add__',\n",
       " '__class__',\n",
       " '__contains__',\n",
       " '__delattr__',\n",
       " '__delitem__',\n",
       " '__dir__',\n",
       " '__doc__',\n",
       " '__eq__',\n",
       " '__format__',\n",
       " '__ge__',\n",
       " '__getattribute__',\n",
       " '__getitem__',\n",
       " '__gt__',\n",
       " '__hash__',\n",
       " '__iadd__',\n",
       " '__imul__',\n",
       " '__init__',\n",
       " '__init_subclass__',\n",
       " '__iter__',\n",
       " '__le__',\n",
       " '__len__',\n",
       " '__lt__',\n",
       " '__mul__',\n",
       " '__ne__',\n",
       " '__new__',\n",
       " '__reduce__',\n",
       " '__reduce_ex__',\n",
       " '__repr__',\n",
       " '__reversed__',\n",
       " '__rmul__',\n",
       " '__setattr__',\n",
       " '__setitem__',\n",
       " '__sizeof__',\n",
       " '__str__',\n",
       " '__subclasshook__',\n",
       " 'append',\n",
       " 'clear',\n",
       " 'copy',\n",
       " 'count',\n",
       " 'extend',\n",
       " 'index',\n",
       " 'insert',\n",
       " 'pop',\n",
       " 'remove',\n",
       " 'reverse',\n",
       " 'sort']"
      ]
     },
     "execution_count": 1,
     "metadata": {},
     "output_type": "execute_result"
    }
   ],
   "source": [
    "# in list we can keep heterogenous (different types of data i.e. string, integer etc.), data is mutable(can be changed)\n",
    "# list used to create database\n",
    "# data in tuple is immutable\n",
    "dir(list) #methods of lists"
   ]
  },
  {
   "cell_type": "code",
   "execution_count": 4,
   "metadata": {},
   "outputs": [
    {
     "name": "stdout",
     "output_type": "stream",
     "text": [
      "['ishra', 'ayesha', 'sara', 'gazala', 'amna']\n"
     ]
    }
   ],
   "source": [
    "#index     -5      -4       -3          -2     -1\n",
    "names= [\"ishra\", \"ayesha\", \"sara\", \"gazala\", \"amna\"]\n",
    "#index    0        1          2        3       4\n",
    "print(names)"
   ]
  },
  {
   "cell_type": "code",
   "execution_count": 5,
   "metadata": {},
   "outputs": [
    {
     "data": {
      "text/plain": [
       "['ayesha', 'sara']"
      ]
     },
     "execution_count": 5,
     "metadata": {},
     "output_type": "execute_result"
    }
   ],
   "source": [
    "#slicing list[start:end:step]\n",
    "names[1:3:1]"
   ]
  },
  {
   "cell_type": "code",
   "execution_count": 7,
   "metadata": {},
   "outputs": [
    {
     "data": {
      "text/plain": [
       "[]"
      ]
     },
     "execution_count": 7,
     "metadata": {},
     "output_type": "execute_result"
    }
   ],
   "source": [
    "names=[]\n",
    "names"
   ]
  },
  {
   "cell_type": "code",
   "execution_count": 8,
   "metadata": {},
   "outputs": [
    {
     "data": {
      "text/plain": [
       "['A', 'B', 'C']"
      ]
     },
     "execution_count": 8,
     "metadata": {},
     "output_type": "execute_result"
    }
   ],
   "source": [
    "names.append(\"A\") #to add elements to list append it\n",
    "names.append(\"B\")\n",
    "names.append(\"C\")\n",
    "names"
   ]
  },
  {
   "cell_type": "code",
   "execution_count": 16,
   "metadata": {},
   "outputs": [
    {
     "data": {
      "text/plain": [
       "[]"
      ]
     },
     "execution_count": 16,
     "metadata": {},
     "output_type": "execute_result"
    }
   ],
   "source": [
    "names.clear() #clear all values of list permanently from memory\n",
    "names"
   ]
  },
  {
   "cell_type": "code",
   "execution_count": 17,
   "metadata": {},
   "outputs": [
    {
     "data": {
      "text/plain": [
       "['A', 'B', 'C']"
      ]
     },
     "execution_count": 17,
     "metadata": {},
     "output_type": "execute_result"
    }
   ],
   "source": [
    "names.append(\"A\") #to add elements to list append it\n",
    "names.append(\"B\")\n",
    "names.append(\"C\")\n",
    "names"
   ]
  },
  {
   "cell_type": "code",
   "execution_count": 18,
   "metadata": {},
   "outputs": [
    {
     "data": {
      "text/plain": [
       "['A', 'B', 'C']"
      ]
     },
     "execution_count": 18,
     "metadata": {},
     "output_type": "execute_result"
    }
   ],
   "source": [
    "names1=names #shallow copy, copy by reference \n",
    "names1"
   ]
  },
  {
   "cell_type": "code",
   "execution_count": 19,
   "metadata": {},
   "outputs": [
    {
     "data": {
      "text/plain": [
       "['A', 'B', 'C', 'D']"
      ]
     },
     "execution_count": 19,
     "metadata": {},
     "output_type": "execute_result"
    }
   ],
   "source": [
    "names.append(\"D\") \n",
    "names1"
   ]
  },
  {
   "cell_type": "code",
   "execution_count": 20,
   "metadata": {},
   "outputs": [
    {
     "data": {
      "text/plain": [
       "['A', 'B', 'C', 'D']"
      ]
     },
     "execution_count": 20,
     "metadata": {},
     "output_type": "execute_result"
    }
   ],
   "source": [
    "names2=names.copy() #deep copy, copy by value\n",
    "names2"
   ]
  },
  {
   "cell_type": "code",
   "execution_count": 21,
   "metadata": {},
   "outputs": [
    {
     "data": {
      "text/plain": [
       "['A', 'B', 'C', 'D']"
      ]
     },
     "execution_count": 21,
     "metadata": {},
     "output_type": "execute_result"
    }
   ],
   "source": [
    "names.append(\"E\") \n",
    "names2"
   ]
  },
  {
   "cell_type": "code",
   "execution_count": 22,
   "metadata": {},
   "outputs": [
    {
     "data": {
      "text/plain": [
       "['A', 'B', 'C', 'D', 'E', 'A']"
      ]
     },
     "execution_count": 22,
     "metadata": {},
     "output_type": "execute_result"
    }
   ],
   "source": [
    "names.append(\"A\") \n",
    "names"
   ]
  },
  {
   "cell_type": "code",
   "execution_count": 23,
   "metadata": {},
   "outputs": [
    {
     "data": {
      "text/plain": [
       "2"
      ]
     },
     "execution_count": 23,
     "metadata": {},
     "output_type": "execute_result"
    }
   ],
   "source": [
    "names.count(\"A\") #Return number of occurrences of value."
   ]
  },
  {
   "cell_type": "code",
   "execution_count": 24,
   "metadata": {},
   "outputs": [],
   "source": [
    "names.extend([\"L\", \"N\", \"O\", \"Y\"])"
   ]
  },
  {
   "cell_type": "code",
   "execution_count": 25,
   "metadata": {},
   "outputs": [
    {
     "data": {
      "text/plain": [
       "['A', 'B', 'C', 'D', 'E', 'A', 'L', 'N', 'O', 'Y']"
      ]
     },
     "execution_count": 25,
     "metadata": {},
     "output_type": "execute_result"
    }
   ],
   "source": [
    "names"
   ]
  },
  {
   "cell_type": "code",
   "execution_count": 26,
   "metadata": {},
   "outputs": [
    {
     "data": {
      "text/plain": [
       "['1', '2', '3', 'A', 'B', 'C']"
      ]
     },
     "execution_count": 26,
     "metadata": {},
     "output_type": "execute_result"
    }
   ],
   "source": [
    "l1=[\"1\", \"2\", \"3\"]\n",
    "l2=[\"A\", \"B\", \"C\"]\n",
    "l3 = l1 + l2 # in line operation l1 and l2 remain same\n",
    "l3"
   ]
  },
  {
   "cell_type": "code",
   "execution_count": 29,
   "metadata": {},
   "outputs": [
    {
     "name": "stdout",
     "output_type": "stream",
     "text": [
      "['1', '2', '3', 'A', 'B', 'C']\n",
      "['A', 'B', 'C']\n",
      "None\n"
     ]
    }
   ],
   "source": [
    "l1=[\"1\", \"2\", \"3\"]\n",
    "l2=[\"A\", \"B\", \"C\"]\n",
    "l3 = l1.extend(l2) # extend is in memory operation, extend doesnt return anything it is non return function\n",
    "print(l1)\n",
    "print(l2)\n",
    "print(l3)"
   ]
  },
  {
   "cell_type": "code",
   "execution_count": 32,
   "metadata": {},
   "outputs": [
    {
     "name": "stdout",
     "output_type": "stream",
     "text": [
      "['A', 'B', 'C', 'D', 'E', 'A', 'L', 'N', 'O', 'Y']\n"
     ]
    },
    {
     "data": {
      "text/plain": [
       "0"
      ]
     },
     "execution_count": 32,
     "metadata": {},
     "output_type": "execute_result"
    }
   ],
   "source": [
    "print(names)\n",
    "names.index(\"A\") #Return first index of value."
   ]
  },
  {
   "cell_type": "code",
   "execution_count": 33,
   "metadata": {},
   "outputs": [
    {
     "data": {
      "text/plain": [
       "2"
      ]
     },
     "execution_count": 33,
     "metadata": {},
     "output_type": "execute_result"
    }
   ],
   "source": [
    "names.index(\"C\")"
   ]
  },
  {
   "cell_type": "code",
   "execution_count": 36,
   "metadata": {},
   "outputs": [
    {
     "data": {
      "text/plain": [
       "5"
      ]
     },
     "execution_count": 36,
     "metadata": {},
     "output_type": "execute_result"
    }
   ],
   "source": [
    "names.index(\"A\", 2)"
   ]
  },
  {
   "cell_type": "code",
   "execution_count": 37,
   "metadata": {},
   "outputs": [
    {
     "data": {
      "text/plain": [
       "['A', 'B', 'C', 'D', 'E', 'F', 'A', 'L', 'N', 'O', 'Y']"
      ]
     },
     "execution_count": 37,
     "metadata": {},
     "output_type": "execute_result"
    }
   ],
   "source": [
    "names.insert(5, \"F\") # names.insert(index, object, /)\n",
    "# Insert object before index. object means anytype tuple, dictionary, list etc.\n",
    "names"
   ]
  },
  {
   "cell_type": "code",
   "execution_count": 38,
   "metadata": {},
   "outputs": [
    {
     "data": {
      "text/plain": [
       "['A', 'B', 'C', 'D', 'E', 'F', 'A', 'L', 'N', 'O']"
      ]
     },
     "execution_count": 38,
     "metadata": {},
     "output_type": "execute_result"
    }
   ],
   "source": [
    "names.pop() #Remove and return item at index (default last).\n",
    "names"
   ]
  },
  {
   "cell_type": "code",
   "execution_count": 41,
   "metadata": {},
   "outputs": [
    {
     "name": "stdout",
     "output_type": "stream",
     "text": [
      "A\n"
     ]
    },
    {
     "data": {
      "text/plain": [
       "['A', 'B', 'C', 'D', 'E', 'F', 'L', 'N', 'O']"
      ]
     },
     "execution_count": 41,
     "metadata": {},
     "output_type": "execute_result"
    }
   ],
   "source": [
    "names= ['A', 'B', 'C', 'D', 'E', 'F', 'A', 'L', 'N', 'O']\n",
    "popped_name= names.pop(6) #can be used to create to do list, pop returns value, del doesnt return value\n",
    "print(popped_name)\n",
    "names"
   ]
  },
  {
   "cell_type": "code",
   "execution_count": 43,
   "metadata": {},
   "outputs": [
    {
     "data": {
      "text/plain": [
       "['A', 'B', 'C', 'D', 'E', 'F', 'A', 'N', 'O']"
      ]
     },
     "execution_count": 43,
     "metadata": {},
     "output_type": "execute_result"
    }
   ],
   "source": [
    "names= ['A', 'B', 'C', 'D', 'E', 'F', 'A', 'L', 'N', 'O']\n",
    "names.remove('L') # Remove first occurrence of value.\n",
    "names"
   ]
  },
  {
   "cell_type": "code",
   "execution_count": 45,
   "metadata": {},
   "outputs": [
    {
     "data": {
      "text/plain": [
       "['B', 'C', 'D', 'E', 'F', 'A', 'L', 'N', 'O']"
      ]
     },
     "execution_count": 45,
     "metadata": {},
     "output_type": "execute_result"
    }
   ],
   "source": [
    "names= ['A', 'B', 'C', 'D', 'E', 'F', 'A', 'L', 'N', 'O']\n",
    "names.remove('A') \n",
    "names"
   ]
  },
  {
   "cell_type": "code",
   "execution_count": 46,
   "metadata": {},
   "outputs": [
    {
     "data": {
      "text/plain": [
       "['O', 'N', 'L', 'A', 'F', 'E', 'D', 'C', 'B', 'A']"
      ]
     },
     "execution_count": 46,
     "metadata": {},
     "output_type": "execute_result"
    }
   ],
   "source": [
    "names = ['A', 'B', 'C', 'D', 'E', 'F', 'A', 'L', 'N', 'O']\n",
    "names.reverse() #Reverse *IN PLACE*. does right to left\n",
    "names"
   ]
  },
  {
   "cell_type": "code",
   "execution_count": 47,
   "metadata": {},
   "outputs": [
    {
     "data": {
      "text/plain": [
       "['A', 'A', 'B', 'C', 'D', 'E', 'F', 'L', 'N', 'O']"
      ]
     },
     "execution_count": 47,
     "metadata": {},
     "output_type": "execute_result"
    }
   ],
   "source": [
    "names = ['A', 'B', 'C', 'D', 'E', 'F', 'A', 'L', 'N', 'O']\n",
    "names.sort()\n",
    "names"
   ]
  },
  {
   "cell_type": "code",
   "execution_count": 49,
   "metadata": {},
   "outputs": [
    {
     "data": {
      "text/plain": [
       "['O', 'N', 'L', 'F', 'E', 'D', 'C', 'B', 'A', 'A']"
      ]
     },
     "execution_count": 49,
     "metadata": {},
     "output_type": "execute_result"
    }
   ],
   "source": [
    "names = ['A', 'B', 'C', 'D', 'E', 'F', 'A', 'L', 'N', 'O']\n",
    "names.sort(reverse= True)\n",
    "names"
   ]
  },
  {
   "cell_type": "code",
   "execution_count": 52,
   "metadata": {},
   "outputs": [
    {
     "name": "stdout",
     "output_type": "stream",
     "text": [
      "['A', 'B', 'C', 'D', 'E', 'F', 'A', 'L', 'N', 'O', 'X', 'Y', 'Z']\n",
      "['A', 'B', 'C', 'D', 'E', 'F', 'A', 'L', 'N', 'O', 'X', 'Y', 'Z']\n"
     ]
    },
    {
     "data": {
      "text/plain": [
       "['A', 'B', 'C', 'D', 'E', 'F', 'A', 'L', 'N', 'O']"
      ]
     },
     "execution_count": 52,
     "metadata": {},
     "output_type": "execute_result"
    }
   ],
   "source": [
    "names = ['A', 'B', 'C', 'D', 'E', 'F', 'A', 'L', 'N', 'O']\n",
    "print(names+ ['X', 'Y', 'Z']) #in line operation\n",
    "print(names.__add__(['X', 'Y', 'Z'])) # in line operation\n",
    "names"
   ]
  },
  {
   "cell_type": "code",
   "execution_count": 53,
   "metadata": {},
   "outputs": [
    {
     "name": "stdout",
     "output_type": "stream",
     "text": [
      "<class 'list'>\n"
     ]
    }
   ],
   "source": [
    "names = ['A', 'B', 'C', 'D', 'E', 'F', 'A', 'L', 'N', 'O']\n",
    "\n",
    "print(names.__class__())\n"
   ]
  },
  {
   "cell_type": "code",
   "execution_count": 54,
   "metadata": {},
   "outputs": [
    {
     "name": "stdout",
     "output_type": "stream",
     "text": [
      "True\n"
     ]
    }
   ],
   "source": [
    "names = ['A', 'B', 'C', 'D', 'E', 'F', 'A', 'L', 'N', 'O']\n",
    "print(names.__contains__('D'))"
   ]
  },
  {
   "cell_type": "code",
   "execution_count": 56,
   "metadata": {},
   "outputs": [
    {
     "name": "stdout",
     "output_type": "stream",
     "text": [
      "False\n"
     ]
    }
   ],
   "source": [
    "l1=[\"1\", \"2\", \"3\"]\n",
    "l2=[\"A\", \"B\", \"C\"]\n",
    "print(l1.__eq__(l2)) #checks if lists are equal\n"
   ]
  },
  {
   "cell_type": "code",
   "execution_count": 60,
   "metadata": {},
   "outputs": [
    {
     "name": "stdout",
     "output_type": "stream",
     "text": [
      "False\n",
      "True\n"
     ]
    }
   ],
   "source": [
    "l1=[1, 2, 3]\n",
    "l2=[4, 5, 6]\n",
    "print(l1.__ge__(l2)) #checks greater than equal\n",
    "print(l2.__ge__(l1))"
   ]
  },
  {
   "cell_type": "code",
   "execution_count": 62,
   "metadata": {},
   "outputs": [
    {
     "name": "stdout",
     "output_type": "stream",
     "text": [
      "5\n",
      "5\n"
     ]
    }
   ],
   "source": [
    "l1=[1, 2, 3, 5, 6]\n",
    "print(l1.__len__()) # gives length\n",
    "print(len(l1))"
   ]
  },
  {
   "cell_type": "markdown",
   "metadata": {},
   "source": [
    "# LOOPS"
   ]
  },
  {
   "cell_type": "code",
   "execution_count": 63,
   "metadata": {},
   "outputs": [],
   "source": [
    "# loop: for repetatition\n",
    "# function: to stop repetition"
   ]
  },
  {
   "cell_type": "code",
   "execution_count": 64,
   "metadata": {},
   "outputs": [
    {
     "data": {
      "text/plain": [
       "['Pakistan', 'Pakistan', 'Pakistan']"
      ]
     },
     "execution_count": 64,
     "metadata": {},
     "output_type": "execute_result"
    }
   ],
   "source": [
    "[\"Pakistan\"] * 3 #one way of repeatition"
   ]
  },
  {
   "cell_type": "code",
   "execution_count": 65,
   "metadata": {},
   "outputs": [],
   "source": [
    "#loop are of two types: for loop and while loop\n",
    "\n",
    "#counter\n",
    "#logic\n",
    "#increment/ decrement"
   ]
  },
  {
   "cell_type": "markdown",
   "metadata": {},
   "source": [
    "## While and For Loop"
   ]
  },
  {
   "cell_type": "code",
   "execution_count": 68,
   "metadata": {},
   "outputs": [
    {
     "name": "stdout",
     "output_type": "stream",
     "text": [
      "Pakistan  1\n",
      "Pakistan  2\n",
      "Pakistan  3\n",
      "Pakistan  4\n",
      "Pakistan  5\n",
      "Pakistan  6\n",
      "Pakistan  7\n",
      "Pakistan  8\n",
      "Pakistan  9\n",
      "Pakistan  10\n"
     ]
    }
   ],
   "source": [
    "counter = 1\n",
    "while counter<= 10: #counter<= 10 returns true or false\n",
    "    print(\"Pakistan \", counter)\n",
    "    counter+=1"
   ]
  },
  {
   "cell_type": "code",
   "execution_count": 71,
   "metadata": {},
   "outputs": [
    {
     "name": "stdout",
     "output_type": "stream",
     "text": [
      "Pakistan  1\n",
      "Pakistan  2\n",
      "Pakistan  3\n",
      "Pakistan  4\n",
      "Pakistan  5\n",
      "Pakistan  6\n",
      "Pakistan  7\n",
      "Pakistan  8\n",
      "Pakistan  9\n",
      "Pakistan  10\n"
     ]
    }
   ],
   "source": [
    "#i = 1\n",
    "for i in range(1,11):\n",
    "    print('Pakistan ', i)"
   ]
  },
  {
   "cell_type": "code",
   "execution_count": 73,
   "metadata": {},
   "outputs": [
    {
     "name": "stdout",
     "output_type": "stream",
     "text": [
      "Pakistan  100\n",
      "Pakistan  99\n",
      "Pakistan  98\n",
      "Pakistan  97\n",
      "Pakistan  96\n",
      "Pakistan  95\n",
      "Pakistan  94\n",
      "Pakistan  93\n",
      "Pakistan  92\n",
      "Pakistan  91\n",
      "Pakistan  90\n"
     ]
    }
   ],
   "source": [
    "counter = 100\n",
    "while counter>= 90: #counter<= 10 returns true or false\n",
    "    print(\"Pakistan \", counter)\n",
    "    counter-=1 # decrement"
   ]
  },
  {
   "cell_type": "code",
   "execution_count": 74,
   "metadata": {},
   "outputs": [],
   "source": [
    "# for(counter:logic:increment) in previous languages\n",
    "# for variable in range(start, end) in python"
   ]
  },
  {
   "cell_type": "code",
   "execution_count": 80,
   "metadata": {},
   "outputs": [
    {
     "data": {
      "text/plain": [
       "[('Pakistan ', 1),\n",
       " ('Pakistan ', 2),\n",
       " ('Pakistan ', 3),\n",
       " ('Pakistan ', 4),\n",
       " ('Pakistan ', 5),\n",
       " ('Pakistan ', 6),\n",
       " ('Pakistan ', 7),\n",
       " ('Pakistan ', 8),\n",
       " ('Pakistan ', 9),\n",
       " ('Pakistan ', 10)]"
      ]
     },
     "execution_count": 80,
     "metadata": {},
     "output_type": "execute_result"
    }
   ],
   "source": [
    "[('Pakistan ', x) for x in range(1,11) ]   #list comprehensive style"
   ]
  },
  {
   "cell_type": "code",
   "execution_count": 81,
   "metadata": {},
   "outputs": [
    {
     "name": "stdout",
     "output_type": "stream",
     "text": [
      "2 X 1 = 2\n",
      "2 X 2 = 4\n",
      "2 X 3 = 6\n",
      "2 X 4 = 8\n",
      "2 X 5 = 10\n",
      "2 X 6 = 12\n",
      "2 X 7 = 14\n",
      "2 X 8 = 16\n",
      "2 X 9 = 18\n",
      "2 X 10 = 20\n"
     ]
    }
   ],
   "source": [
    "for i in range(1,11):\n",
    "    print(2, 'X', i, \"=\", 2*i)"
   ]
  },
  {
   "cell_type": "code",
   "execution_count": 85,
   "metadata": {},
   "outputs": [
    {
     "name": "stdout",
     "output_type": "stream",
     "text": [
      "2 X 1 = 2\n",
      "2 X 2 = 4\n",
      "2 X 3 = 6\n",
      "2 X 4 = 8\n",
      "2 X 5 = 10\n",
      "2 X 6 = 12\n",
      "2 X 7 = 14\n",
      "2 X 8 = 16\n",
      "2 X 9 = 18\n",
      "2 X 10 = 20\n"
     ]
    }
   ],
   "source": [
    "for i in range(1,11):\n",
    "    print(\"2 X \" + str(i) + \" = \" + str(2*i)) #concatenation, by type casting to string"
   ]
  },
  {
   "cell_type": "code",
   "execution_count": 87,
   "metadata": {},
   "outputs": [
    {
     "data": {
      "text/plain": [
       "['2 X 1 = 2',\n",
       " '2 X 2 = 4',\n",
       " '2 X 3 = 6',\n",
       " '2 X 4 = 8',\n",
       " '2 X 5 = 10',\n",
       " '2 X 6 = 12',\n",
       " '2 X 7 = 14',\n",
       " '2 X 8 = 16',\n",
       " '2 X 9 = 18',\n",
       " '2 X 10 = 20']"
      ]
     },
     "execution_count": 87,
     "metadata": {},
     "output_type": "execute_result"
    }
   ],
   "source": [
    "[\"2 X \" + str(i) + \" = \" + str(2*i) for i in range(1,11)] #list comprehensive style"
   ]
  },
  {
   "cell_type": "markdown",
   "metadata": {},
   "source": [
    "# Tuple"
   ]
  },
  {
   "cell_type": "code",
   "execution_count": 88,
   "metadata": {},
   "outputs": [
    {
     "data": {
      "text/plain": [
       "['__add__',\n",
       " '__class__',\n",
       " '__contains__',\n",
       " '__delattr__',\n",
       " '__dir__',\n",
       " '__doc__',\n",
       " '__eq__',\n",
       " '__format__',\n",
       " '__ge__',\n",
       " '__getattribute__',\n",
       " '__getitem__',\n",
       " '__getnewargs__',\n",
       " '__gt__',\n",
       " '__hash__',\n",
       " '__init__',\n",
       " '__init_subclass__',\n",
       " '__iter__',\n",
       " '__le__',\n",
       " '__len__',\n",
       " '__lt__',\n",
       " '__mul__',\n",
       " '__ne__',\n",
       " '__new__',\n",
       " '__reduce__',\n",
       " '__reduce_ex__',\n",
       " '__repr__',\n",
       " '__rmul__',\n",
       " '__setattr__',\n",
       " '__sizeof__',\n",
       " '__str__',\n",
       " '__subclasshook__',\n",
       " 'count',\n",
       " 'index']"
      ]
     },
     "execution_count": 88,
     "metadata": {},
     "output_type": "execute_result"
    }
   ],
   "source": [
    "dir(tuple)"
   ]
  },
  {
   "cell_type": "code",
   "execution_count": 93,
   "metadata": {},
   "outputs": [
    {
     "name": "stdout",
     "output_type": "stream",
     "text": [
      "2\n"
     ]
    },
    {
     "data": {
      "text/plain": [
       "7"
      ]
     },
     "execution_count": 93,
     "metadata": {},
     "output_type": "execute_result"
    }
   ],
   "source": [
    "a=(1,2,3,4,5,6,1,7,2,6,3,2)\n",
    "print(a.count(1)) #Return number of occurrences of value.\n",
    "a.index(7)"
   ]
  },
  {
   "cell_type": "code",
   "execution_count": 3,
   "metadata": {},
   "outputs": [
    {
     "name": "stdout",
     "output_type": "stream",
     "text": [
      "Name: Ishra\n",
      "Father Name: Abdul Hussain\n",
      "Number: 2328328392\n",
      "Continue? y\n",
      "Name: Sami Ullah\n",
      "Father Name: Abdul Hussain\n",
      "Number: 0495409540\n",
      "Continue? y\n",
      "Name: Bushra\n",
      "Father Name: Jamil\n",
      "Number: 872738238\n",
      "Continue? n\n",
      "['Ishra', 'Sami Ullah', 'Bushra']\n",
      "['Abdul Hussain', 'Abdul Hussain', 'Jamil']\n",
      "['2328328392', '0495409540', '872738238']\n"
     ]
    }
   ],
   "source": [
    "#Perform a task where you take multiple input from user about name, fname, contact number and \n",
    "#continue adding data to list as long as they want to continue\n",
    "name=[]\n",
    "fname=[]\n",
    "number=[]\n",
    "more=\"y\"\n",
    "while more == \"y\":\n",
    "    name1= input(\"Name: \")\n",
    "    fname1=input(\"Father Name: \")\n",
    "    number1=input(\"Number: \")\n",
    "    name.append(name1)\n",
    "    fname.append(fname1)\n",
    "    number.append(number1)\n",
    "    \n",
    "    more=input(\"Continue? \")\n",
    "   \n",
    "    \n",
    "print(name)\n",
    "print(fname)\n",
    "print(number)"
   ]
  },
  {
   "cell_type": "code",
   "execution_count": 4,
   "metadata": {},
   "outputs": [
    {
     "name": "stdout",
     "output_type": "stream",
     "text": [
      "1000\n",
      "999\n",
      "998\n",
      "997\n",
      "996\n",
      "995\n",
      "994\n",
      "993\n",
      "992\n",
      "991\n",
      "990\n"
     ]
    }
   ],
   "source": [
    "#Perform a task to print numbers from 990 to 1000 in descending order using for loop\n",
    "for i in range(1000,989,-1):\n",
    "    print(i)\n",
    "    "
   ]
  },
  {
   "cell_type": "code",
   "execution_count": 5,
   "metadata": {},
   "outputs": [
    {
     "name": "stdout",
     "output_type": "stream",
     "text": [
      "1000\n",
      "999\n",
      "998\n",
      "997\n",
      "996\n",
      "995\n",
      "994\n",
      "993\n",
      "992\n",
      "991\n",
      "990\n"
     ]
    }
   ],
   "source": [
    "#Perform a task to print numbers from 990 to 1000 in descending order using while loop\n",
    "counter = 1000\n",
    "while counter>= 990: #counter<= 10 returns true or false\n",
    "    print(counter)\n",
    "    counter-=1 # decrement"
   ]
  },
  {
   "cell_type": "code",
   "execution_count": 125,
   "metadata": {},
   "outputs": [
    {
     "name": "stdout",
     "output_type": "stream",
     "text": [
      "A   a   0\n",
      "B   b   1\n",
      "C   c   2\n",
      "D   d   3\n",
      "E   e   4\n",
      "F   f   5\n",
      "G   g   6\n",
      "H   h   7\n",
      "I   i   8\n",
      "J   j   9\n",
      "K   k   :\n",
      "L   l   ;\n",
      "M   m   <\n",
      "N   n   =\n",
      "O   o   >\n",
      "P   p   ?\n",
      "Q   q   @\n",
      "R   r   A\n",
      "S   s   B\n",
      "T   t   C\n",
      "U   u   D\n",
      "V   v   E\n",
      "W   w   F\n",
      "X   x   G\n",
      "Y   y   H\n",
      "Z   z   I\n"
     ]
    }
   ],
   "source": [
    "# Perform a task to print ascii codes of following asii code 65-90, 97-122, 47-72 and display in format as \n",
    "# A   a  0\n",
    "# B   b  1 .....\n",
    "for i in range(65,91,1):\n",
    "    print(chr(i), \" \", chr(i+32), \" \", chr(i-17))\n",
    "    "
   ]
  },
  {
   "cell_type": "code",
   "execution_count": 13,
   "metadata": {},
   "outputs": [
    {
     "name": "stdout",
     "output_type": "stream",
     "text": [
      "Table upto: 5\n",
      "1 X 1 = 1\t2 X 1 = 2\t3 X 1 = 3\t4 X 1 = 4\t5 X 1 = 5\t\n",
      "1 X 2 = 2\t2 X 2 = 4\t3 X 2 = 6\t4 X 2 = 8\t5 X 2 = 10\t\n",
      "1 X 3 = 3\t2 X 3 = 6\t3 X 3 = 9\t4 X 3 = 12\t5 X 3 = 15\t\n",
      "1 X 4 = 4\t2 X 4 = 8\t3 X 4 = 12\t4 X 4 = 16\t5 X 4 = 20\t\n",
      "1 X 5 = 5\t2 X 5 = 10\t3 X 5 = 15\t4 X 5 = 20\t5 X 5 = 25\t\n",
      "1 X 6 = 6\t2 X 6 = 12\t3 X 6 = 18\t4 X 6 = 24\t5 X 6 = 30\t\n",
      "1 X 7 = 7\t2 X 7 = 14\t3 X 7 = 21\t4 X 7 = 28\t5 X 7 = 35\t\n",
      "1 X 8 = 8\t2 X 8 = 16\t3 X 8 = 24\t4 X 8 = 32\t5 X 8 = 40\t\n",
      "1 X 9 = 9\t2 X 9 = 18\t3 X 9 = 27\t4 X 9 = 36\t5 X 9 = 45\t\n",
      "1 X 10 = 10\t2 X 10 = 20\t3 X 10 = 30\t4 X 10 = 40\t5 X 10 = 50\t\n"
     ]
    }
   ],
   "source": [
    "#Perform a task to take input number from user to print tables upto that number following format e.g. user typed 3\n",
    "#1 X 1 = 1\t2 X 1 = 2\t3 X 1 = 3\n",
    "#1 X 2 = 2\t2 X 2 = 4\t3 X 2 = 6.....\n",
    "table = input(\"Table upto: \")\n",
    "tab=int(table)\n",
    "j=1\n",
    "for i in range(1,11):\n",
    "    for j in range(1,tab+1): \n",
    "        print(j, 'X', i, \"=\", j*i, end='\\t')\n",
    "    print(end='\\n')"
   ]
  },
  {
   "cell_type": "code",
   "execution_count": 1,
   "metadata": {},
   "outputs": [
    {
     "name": "stdout",
     "output_type": "stream",
     "text": [
      "(0, 1, 5) (0, 2, 0) \n",
      "(1, 2, 10) \n",
      "(2, 0, 20) (2, 1, 30) \n",
      "(3, 0, 35) (3, 2, 20) \n"
     ]
    }
   ],
   "source": [
    "# Perform a task that from a matrix if elements are divisible by 5 return row and column number\n",
    "l= [[2,5,0], \\\n",
    "    [8,9,10],\\\n",
    "    [20,30,27], \\\n",
    "    [35,9,20]]\n",
    "# enumerate is used to get loc\n",
    "for ri,r in enumerate(l):\n",
    "    for ci,c in enumerate(r):\n",
    "        if c%5 == 0:\n",
    "            print((ri,ci,c), end=\" \")\n",
    "    print()"
   ]
  },
  {
   "cell_type": "code",
   "execution_count": 15,
   "metadata": {},
   "outputs": [
    {
     "name": "stdout",
     "output_type": "stream",
     "text": [
      "5\t7\t10\t14\t15\t20\t21\t25\t28\t30\t35\t40\t42\t45\t49\t50\t55\t56\t60\t63\t65\t70\t75\t77\t80\t84\t85\t90\t91\t95\t98\t100\t105\t110\t112\t115\t119\t120\t125\t126\t130\t133\t135\t140\t145\t147\t150\t154\t155\t160\t161\t165\t168\t170\t175\t180\t182\t185\t189\t190\t195\t196\t200\t203\t205\t210\t215\t217\t220\t224\t225\t230\t231\t235\t238\t240\t245\t250\t252\t255\t259\t260\t265\t266\t270\t273\t275\t280\t285\t287\t290\t294\t295\t300\t301\t305\t308\t310\t315\t320\t322\t325\t329\t330\t335\t336\t340\t343\t345\t350\t355\t357\t360\t364\t365\t370\t371\t375\t378\t380\t385\t390\t392\t395\t399\t400\t405\t406\t410\t413\t415\t420\t425\t427\t430\t434\t435\t440\t441\t445\t448\t450\t455\t460\t462\t465\t469\t470\t475\t476\t480\t483\t485\t490\t495\t497\t500\t504\t505\t510\t511\t515\t518\t520\t525\t530\t532\t535\t539\t540\t545\t546\t550\t553\t555\t560\t565\t567\t570\t574\t575\t580\t581\t585\t588\t590\t595\t600\t602\t605\t609\t610\t615\t616\t620\t623\t625\t630\t635\t637\t640\t644\t645\t650\t651\t655\t658\t660\t665\t670\t672\t675\t679\t680\t685\t686\t690\t693\t695\t700\t705\t707\t710\t714\t715\t720\t721\t725\t728\t730\t735\t740\t742\t745\t749\t750\t755\t756\t760\t763\t765\t770\t775\t777\t780\t784\t785\t790\t791\t795\t798\t800\t805\t810\t812\t815\t819\t820\t825\t826\t830\t833\t835\t840\t845\t847\t850\t854\t855\t860\t861\t865\t868\t870\t875\t880\t882\t885\t889\t890\t895\t896\t900\t903\t905\t910\t915\t917\t920\t924\t925\t930\t931\t935\t938\t940\t945\t950\t952\t955\t959\t960\t965\t966\t970\t973\t975\t980\t985\t987\t990\t994\t995\t1000\t"
     ]
    }
   ],
   "source": [
    "# Perform a task to print number divisible by 5,7, 20 in range 1-1000\n",
    "for i in range(1, 1001):   \n",
    "    if (i%5 == 0) or (i%7 == 0) or (i%20 == 0):\n",
    "        print(i, end='\\t')\n",
    "        "
   ]
  },
  {
   "cell_type": "code",
   "execution_count": null,
   "metadata": {},
   "outputs": [],
   "source": []
  }
 ],
 "metadata": {
  "kernelspec": {
   "display_name": "Python 3",
   "language": "python",
   "name": "python3"
  },
  "language_info": {
   "codemirror_mode": {
    "name": "ipython",
    "version": 3
   },
   "file_extension": ".py",
   "mimetype": "text/x-python",
   "name": "python",
   "nbconvert_exporter": "python",
   "pygments_lexer": "ipython3",
   "version": "3.7.3"
  }
 },
 "nbformat": 4,
 "nbformat_minor": 2
}
