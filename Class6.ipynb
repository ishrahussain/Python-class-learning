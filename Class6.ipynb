{
 "cells": [
  {
   "cell_type": "code",
   "execution_count": 8,
   "metadata": {},
   "outputs": [
    {
     "name": "stdout",
     "output_type": "stream",
     "text": [
      "Enter marks: 88\n",
      "B\n"
     ]
    }
   ],
   "source": [
    "marks = int(input(\"Enter marks: \"))\n",
    "if marks >= 90:\n",
    "    print(\"A\")\n",
    "elif marks >= 80:\n",
    "    print(\"B\")\n",
    "elif marks >= 70:\n",
    "    print(\"C\") \n",
    "elif marks >= 60:\n",
    "    print(\"D\")\n",
    "else:\n",
    "    print(\"E\")"
   ]
  },
  {
   "cell_type": "code",
   "execution_count": 9,
   "metadata": {},
   "outputs": [
    {
     "name": "stdout",
     "output_type": "stream",
     "text": [
      "Cost is: 3.975\n"
     ]
    }
   ],
   "source": [
    "# Calculate cost based on scenario\n",
    "rday = \"thursday\"\n",
    "scr = \"no\"\n",
    "time = 7\n",
    "cost = 1.59\n",
    "no_days = 5\n",
    "if time > 8:\n",
    "    no_days += 1\n",
    "else:\n",
    "    no_days\n",
    "if rday == \"sunday\":\n",
    "    cost *= no_days\n",
    "    cost -= 0.3*cost\n",
    "    if scr == \"yes\":\n",
    "        cost += 2\n",
    "    print(\"Cost is:\", cost)\n",
    "elif rday == \"thursday\":\n",
    "    cost *= no_days\n",
    "    cost -= 0.5*cost\n",
    "    if scr == \"yes\":\n",
    "        cost += 1\n",
    "    print(\"Cost is:\", cost)\n",
    "else:\n",
    "    cost *= no_days\n",
    "    if scr == \"yes\":\n",
    "        cost += 1\n",
    "    print(\"Cost is:\", cost)"
   ]
  },
  {
   "cell_type": "raw",
   "metadata": {},
   "source": [
    "slicing [2:0:-1]\n",
    "left to right : positive increment \n",
    "right to left : negative increment\n",
    "indexing and slices very important (both postive and negative index important)\n"
   ]
  },
  {
   "cell_type": "code",
   "execution_count": 1,
   "metadata": {},
   "outputs": [
    {
     "name": "stdout",
     "output_type": "stream",
     "text": [
      "Index of 6 is 7\n"
     ]
    }
   ],
   "source": [
    "l1 = [2, 4, 2, 4, 3, 10, 3, 6, 1, 9]\n",
    "a = 0\n",
    "for i in l1:\n",
    "    while i == 6:\n",
    "        print(\"Index of 6 is\", a)\n",
    "        break\n",
    "    a += 1"
   ]
  },
  {
   "cell_type": "code",
   "execution_count": 2,
   "metadata": {},
   "outputs": [
    {
     "name": "stdout",
     "output_type": "stream",
     "text": [
      "Index of 6 is 7\n"
     ]
    }
   ],
   "source": [
    "l1 = [2, 4, 2, 4, 3, 10, 3, 6, 1, 9]\n",
    "a = 0\n",
    "while (a < 10):\n",
    "    if l1[a] == 6:\n",
    "        print(\"Index of\", l1[a],  \"is\", a)\n",
    "        break\n",
    "    else:\n",
    "        a += 1"
   ]
  },
  {
   "cell_type": "raw",
   "metadata": {},
   "source": [
    "in dictionary key can be integer, string, bool, tuple, float, \n",
    "cannot use list or dictionary as keys"
   ]
  },
  {
   "cell_type": "code",
   "execution_count": 1,
   "metadata": {},
   "outputs": [
    {
     "name": "stdout",
     "output_type": "stream",
     "text": [
      "marks\n"
     ]
    }
   ],
   "source": [
    "d1 = {\n",
    "    \"id\": 1, \n",
    "    \"name\":\"ishra\", \n",
    "    (99,100): \"marks\"\n",
    "}\n",
    "print(d1[(99, 100)])"
   ]
  },
  {
   "cell_type": "code",
   "execution_count": 2,
   "metadata": {},
   "outputs": [
    {
     "data": {
      "text/plain": [
       "{'id': 1,\n",
       " 'name': 'ishra',\n",
       " (99, 100): 'marks',\n",
       " 'hobbies': ['reading', 'praying']}"
      ]
     },
     "execution_count": 2,
     "metadata": {},
     "output_type": "execute_result"
    }
   ],
   "source": [
    "d1[\"hobbies\"]= [\"reading\", \"praying\"]\n",
    "d1"
   ]
  },
  {
   "cell_type": "code",
   "execution_count": 3,
   "metadata": {},
   "outputs": [
    {
     "data": {
      "text/plain": [
       "{'id': 1,\n",
       " 'name': 'ishra',\n",
       " (99, 100): 'marks',\n",
       " 'hobbies': ['reading', 'praying'],\n",
       " 'year': 1996,\n",
       " 'age': 23}"
      ]
     },
     "execution_count": 3,
     "metadata": {},
     "output_type": "execute_result"
    }
   ],
   "source": [
    "d2 = {\n",
    "    \"year\": 1996,\n",
    "    \"age\" : 23\n",
    "}\n",
    "d1.update(d2)\n",
    "d1"
   ]
  },
  {
   "cell_type": "code",
   "execution_count": 4,
   "metadata": {},
   "outputs": [
    {
     "data": {
      "text/plain": [
       "{'id': 1,\n",
       " 'name': 'ishra',\n",
       " (99, 100): 'marks',\n",
       " 'more data': {'year': 1996, 'age': 23}}"
      ]
     },
     "execution_count": 4,
     "metadata": {},
     "output_type": "execute_result"
    }
   ],
   "source": [
    "d1 = {\n",
    "    \"id\": 1, \n",
    "    \"name\":\"ishra\", \n",
    "    (99,100): \"marks\"\n",
    "}\n",
    "d2 = {\n",
    "    \"year\": 1996,\n",
    "    \"age\" : 23\n",
    "}\n",
    "d1[\"more data\"]= d2\n",
    "d1"
   ]
  },
  {
   "cell_type": "code",
   "execution_count": 5,
   "metadata": {},
   "outputs": [
    {
     "name": "stdout",
     "output_type": "stream",
     "text": [
      "None\n"
     ]
    }
   ],
   "source": [
    "print(d1.get(\"end year\"))"
   ]
  },
  {
   "cell_type": "code",
   "execution_count": 6,
   "metadata": {},
   "outputs": [
    {
     "name": "stdout",
     "output_type": "stream",
     "text": [
      "1\n"
     ]
    }
   ],
   "source": [
    "print(d1.get(\"id\"))"
   ]
  },
  {
   "cell_type": "raw",
   "metadata": {},
   "source": [
    "#search getting started with jupyter notebook on youtube\n",
    "interrupt in case of error, kernal > interrupt  or (kernal > restart but it clears all values from memory) \n",
    "or press square button\n",
    "kernal > restart and run all to execute all\n",
    "make code optimized, "
   ]
  },
  {
   "cell_type": "code",
   "execution_count": 7,
   "metadata": {},
   "outputs": [
    {
     "name": "stdout",
     "output_type": "stream",
     "text": [
      "{'id': 1, 'name': 'ishra', (99, 100): 'marks', 'more data': {'year': 1996, 'age': 23}}\n"
     ]
    },
    {
     "data": {
      "text/plain": [
       "1996"
      ]
     },
     "execution_count": 7,
     "metadata": {},
     "output_type": "execute_result"
    }
   ],
   "source": [
    "d1 = {\n",
    "    \"id\": 1, \n",
    "    \"name\":\"ishra\", \n",
    "    (99,100): \"marks\"\n",
    "}\n",
    "d2 = {\n",
    "    \"year\": 1996,\n",
    "    \"age\" : 23\n",
    "}\n",
    "\n",
    "d1[\"more data\"]= d2\n",
    "print(d1)\n",
    "d1[\"more data\"][\"year\"]"
   ]
  },
  {
   "cell_type": "code",
   "execution_count": 6,
   "metadata": {},
   "outputs": [
    {
     "name": "stdout",
     "output_type": "stream",
     "text": [
      "Enter name: ishra\n",
      "Enter course: ai\n",
      "Enter namebushra\n",
      "Enter course: iot\n",
      "[{'name': 'ishra', 'course': 'ai'}, {'name': 'bushra', 'course': 'iot'}]\n"
     ]
    }
   ],
   "source": [
    "# we can also take input inside a dictionary\n",
    "l1 = [\n",
    "    {\n",
    "        \"name\": input(\"Enter name: \"),\n",
    "        \"course\": input(\"Enter course: \")\n",
    "    }, \n",
    "    {\n",
    "        \"name\": input(\"Enter name\"),\n",
    "        \"course\": input(\"Enter course: \")\n",
    "    },\n",
    "]\n",
    "print(l1)"
   ]
  },
  {
   "cell_type": "code",
   "execution_count": 7,
   "metadata": {},
   "outputs": [
    {
     "name": "stdout",
     "output_type": "stream",
     "text": [
      "Enter your name: ishra\n",
      "Enter your marks: 99\n",
      "Enter your subjects: ai\n",
      "Enter your marks: 78\n",
      "Enter your subjects: maths\n",
      "Enter your marks: 97\n",
      "Enter your subjects: antenna\n",
      "Enter your hobbies: reading\n",
      "Enter your hobbies: praying\n",
      "Enter your hobbies: hiking\n",
      "{'name': 'ishra', 'marks': {'ai': '99', 'maths': '78', 'antenna': '97'}, 'hobbies': ['reading', 'praying', 'hiking']}\n"
     ]
    }
   ],
   "source": [
    "d= {}\n",
    "d[\"name\"] = input(\"Enter your name: \")\n",
    "d[\"marks\"] = { input(\"Enter your subjects: \") : input(\"Enter your marks: \") for i in range (0,3) }\n",
    "d[\"hobbies\"]= [input(\"Enter your hobbies: \" ) for i in range(0,3)]    \n",
    "print(d)"
   ]
  },
  {
   "cell_type": "code",
   "execution_count": 9,
   "metadata": {},
   "outputs": [
    {
     "name": "stdout",
     "output_type": "stream",
     "text": [
      "Enter your name: ishra\n",
      "Enter your marks: 60\n",
      "Enter your subjects: maths\n",
      "Enter your marks: 90\n",
      "Enter your subjects: urdu\n",
      "Enter your marks: 50\n",
      "Enter your subjects: english\n",
      "Enter your hobbiestravel\n",
      "Enter your hobbiesplay\n",
      "Enter your hobbieseat\n",
      "continue? y\n",
      "Enter your name: bushra\n",
      "Enter your marks: 78\n",
      "Enter your subjects: english\n",
      "Enter your marks: 60\n",
      "Enter your subjects: maths\n",
      "Enter your marks: 40\n",
      "Enter your subjects: urdu\n",
      "Enter your hobbiesplay\n",
      "Enter your hobbiestravel\n",
      "Enter your hobbieseat\n",
      "continue? n\n",
      "[{'name': 'ishra', 'marks': {'maths': '60', 'urdu': '90', 'english': '50'}, 'hobbies': ['travel', 'play', 'eat']}, {'name': 'bushra', 'marks': {'english': '78', 'maths': '60', 'urdu': '40'}, 'hobbies': ['play', 'travel', 'eat']}]\n"
     ]
    }
   ],
   "source": [
    "l1= []\n",
    "cont = \"y\"\n",
    "while cont != \"n\":\n",
    "    d= {}\n",
    "    d[\"name\"] = input(\"Enter your name: \")\n",
    "    d[\"marks\"] = { input(\"Enter your subjects: \") : input(\"Enter your marks: \") for i in range (3) }\n",
    "    d[\"hobbies\"]= [input(\"Enter your hobbies\" ) for i in range(3)]   \n",
    "    \n",
    "    l1.append(d)\n",
    "    cont = input(\"continue? \")\n",
    " \n",
    "print(l1)"
   ]
  },
  {
   "cell_type": "code",
   "execution_count": null,
   "metadata": {},
   "outputs": [],
   "source": []
  }
 ],
 "metadata": {
  "kernelspec": {
   "display_name": "Python 3",
   "language": "python",
   "name": "python3"
  },
  "language_info": {
   "codemirror_mode": {
    "name": "ipython",
    "version": 3
   },
   "file_extension": ".py",
   "mimetype": "text/x-python",
   "name": "python",
   "nbconvert_exporter": "python",
   "pygments_lexer": "ipython3",
   "version": "3.7.3"
  }
 },
 "nbformat": 4,
 "nbformat_minor": 2
}
