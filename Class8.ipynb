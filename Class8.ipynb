{
 "cells": [
  {
   "cell_type": "markdown",
   "metadata": {},
   "source": [
    "# Object Oriented Programming (OOP)"
   ]
  },
  {
   "cell_type": "markdown",
   "metadata": {},
   "source": [
    "- Class\n",
    "- Instance\n",
    "- Method\n",
    "- Attributes/properties\n",
    "- Class variable\n",
    "- Instance variable"
   ]
  },
  {
   "cell_type": "markdown",
   "metadata": {},
   "source": [
    "There are different levels of programming:\n",
    "    - low level\n",
    "    - middle level\n",
    "    - high level\n",
    "Machine understands binary (0, 1) which is a low level language\n",
    "- low level language is difficult for us to interprate e.g. rust\n",
    "- so a interprator made to translate our language (natural) to machine language (middle level) e.g. assembly language, c language, but it is difficult as it has lengthy code\n",
    "- so a high level language was developed, more easy convinient for user but difficult for machine as processing time increase for compiler e.g c++, python"
   ]
  },
  {
   "cell_type": "markdown",
   "metadata": {},
   "source": [
    "Paradigm of programming:\n",
    "    - Linear programming: line by line\n",
    "    - Functional programming: (structural programming/ sub-routine programming), has structure blocks, \n",
    "        e.g. if-else, while, for etc. it reduced our code\n",
    "    - OOP: To manage/solve problems like real world we use oop\n",
    "    \n",
    "-- Why oop\n",
    "    \n",
    "- Everything that has a name is object, objects has methods and attributes\n",
    "- Actions/functions performed by object is 'methods', its properties, values, variables are its 'attributes'\n",
    "   -  for example: mobile phone has methods e.g. call, sms, reply, camera, audio play, vibrate etc.\n",
    "   -  mobile has attributes e.g. color, weight, material etc.\n",
    "- as it is difficult to remember methods and attribute of all objects so to manage this we use oop to make a class of similar objects, having same methods and attributes\n",
    "- e.g. cat class, car class, male class, female class, have all attributes and methods same so it is easy to manage them using classes"
   ]
  },
  {
   "cell_type": "markdown",
   "metadata": {},
   "source": [
    "- Uses of OOP:\n",
    "With oop we create class, e.g. student class so define methods and its attribute\n",
    "So for any student we create instance of student class\n",
    "if we define any new attribute e.g. cnic, so it is updated to all students automatically belonging to that class\n",
    "- Reusability: we can use code again with new changes\n",
    "- OOP has 4 branches:\n",
    "\n",
    "    - INHERITANCE: \n",
    "    - POLYMORPHISM: \n",
    "    - INCAPSULATION: \n",
    "    - ABSTRACTION: "
   ]
  },
  {
   "cell_type": "markdown",
   "metadata": {},
   "source": [
    "- Inhertitance:\n",
    "    Any method and attributes which are inherited, e.g. we inherited human like characteristics and attributes from our ancestors, parent to child class inheritance, inheritance can be from multiple classes\n",
    "- Polymorphism: \n",
    "    It has Multiple/more than one functions, \n",
    "    \n",
    "    - Over-loading: same class function (not parents and child but same class) functions/actions more than one (arguments can be one or two or three etc.), parameter function have different quantity and have different data types e.g. 1 int, one float, one string etc. e.g + operator between strings it concatenate but with int, float it adds\n",
    "    - Over-riding: has parents and child class are same e.g. both can speak but frequency is different or language is different from parents, speaking function inherited but another action language is different, so it is over-riding\n",
    "    any class has method/actions more than one\n",
    "- Incapsulation:\n",
    "    Class attributes are private in incapsulation, can't be called outside object directly (secured), e.g. to connect to database there is username, password that is unique and private, not everyone can access it directly, some attributes private. So a class created methods that are private, to access/update those there are functions such as getter(to access), setter(to update) methods etc.\n",
    "\n",
    "- Abstraction:\n",
    "    (incomplete) An empty class, its object/instance cannot be defined directly but by inheritiance\n",
    "    e.g. living class has human, animals, plants class, \n",
    "    human class has male and female class so these are abstract class they are not directly ( no direct instance/object exists) first they are livng class then human and then male or female class, so there is a hierarchy"
   ]
  },
  {
   "cell_type": "markdown",
   "metadata": {},
   "source": [
    "# Class"
   ]
  },
  {
   "cell_type": "code",
   "execution_count": 2,
   "metadata": {},
   "outputs": [],
   "source": [
    "# use class keyword followed by any legal name of function\n",
    "class Student():\n",
    "    pass # doesnt give error "
   ]
  },
  {
   "cell_type": "code",
   "execution_count": 4,
   "metadata": {},
   "outputs": [],
   "source": [
    "# define an object of class as\n",
    "s1 = Student()"
   ]
  },
  {
   "cell_type": "code",
   "execution_count": 8,
   "metadata": {},
   "outputs": [],
   "source": [
    "# without classes and linear programming for two students\n",
    "s1name = \"ishra\"\n",
    "s1fname = \"abdul\"\n",
    "s1id = 1\n",
    "def s1login(): pass\n",
    "def s1logout(): pass\n",
    "def s1quizattempt(): pass\n",
    "\n",
    "s2name = \"bushra\"\n",
    "s2fname = \"jamil\"\n",
    "s2id = 2\n",
    "def s2login(): pass\n",
    "def s2logout(): pass\n",
    "def s2quizattempt(): pass\n"
   ]
  },
  {
   "cell_type": "code",
   "execution_count": 1,
   "metadata": {},
   "outputs": [],
   "source": [
    "# with oop\n",
    "class Student():\n",
    "    # constructor function of class\n",
    "    # def Students(), used as constructor in previous language\n",
    "    def __init__(self, sid): # instead of self any name variable can be used, with self any other variable is used\n",
    "        # lets define attributes of student class\n",
    "        self.sid = sid\n",
    "        self.name = \"\"\n",
    "        self.fname = \"\"\n",
    "        self.course = \"\"\n",
    "        self.fee = 0\n",
    "        \n",
    "        # lets create a function to define its methods\n",
    "    def login(self):\n",
    "        pass\n",
    "        \n",
    "    def logout(self):\n",
    "        pass\n",
    "\n",
    "    def quiz_attempt(self):\n",
    "        pass\n",
    "        \n",
    "    # destructor class function is by default"
   ]
  },
  {
   "cell_type": "code",
   "execution_count": 2,
   "metadata": {},
   "outputs": [],
   "source": [
    "s1 = Student(1) # s1 is instance, first argument self is ignored\n",
    "s2 = Student(2)\n",
    "s3 = Student(100)"
   ]
  },
  {
   "cell_type": "code",
   "execution_count": 23,
   "metadata": {},
   "outputs": [
    {
     "name": "stdout",
     "output_type": "stream",
     "text": [
      "1 100\n"
     ]
    }
   ],
   "source": [
    "print(s1.sid, s3.sid) # s1.tab gives all its attributes and functions "
   ]
  },
  {
   "cell_type": "code",
   "execution_count": 25,
   "metadata": {},
   "outputs": [
    {
     "name": "stdout",
     "output_type": "stream",
     "text": [
      "ishra\n",
      "bushra\n",
      "sara\n"
     ]
    }
   ],
   "source": [
    "s1.name = \"ishra\"\n",
    "s2.name = \"bushra\"\n",
    "s3.name = \"sara\"\n",
    "print(s1.name, s2.name, s3.name, sep= '\\n')"
   ]
  },
  {
   "cell_type": "code",
   "execution_count": 43,
   "metadata": {},
   "outputs": [],
   "source": [
    "# with oop\n",
    "class Student():\n",
    "    \n",
    "    # here we can define class variable/ attributes same for all objects\n",
    "    \n",
    "    counter = 0\n",
    "    \n",
    "    # constructor function of class\n",
    "    # def Students(), used as constructor in previous language\n",
    "    def __init__(this, sid): # instead of self any variable name can be used, with self any other variable is used\n",
    "        \n",
    "        # within this we define \n",
    "        \n",
    "        \n",
    "        # lets define attributes of student class\n",
    "        this.sid = sid   # attribute/ properties/field/datamembers\n",
    "        this.name = \"\"\n",
    "        this.fname = \"\"\n",
    "        this.course = \"\"\n",
    "        this.fee = 0\n",
    "        this.user = \"\"\n",
    "        this.password = \"\"\n",
    "        Student.counter += 1  # as it is class varaible to we use as class.variable\n",
    "        \n",
    "        # lets create a function to define its methods/actions\n",
    "    def login(this, username, password):\n",
    "        this.user = username\n",
    "        print('Welcome ', this.user)\n",
    "        \n",
    "    def logout(this):\n",
    "        pass\n",
    "\n",
    "    def quiz_attempt(this):\n",
    "        pass\n",
    "        \n",
    "    # destructor class function is by default"
   ]
  },
  {
   "cell_type": "code",
   "execution_count": 44,
   "metadata": {},
   "outputs": [],
   "source": [
    "s1 = Student(1)\n",
    "s2 = Student(2)\n",
    "s3 = Student(100)"
   ]
  },
  {
   "cell_type": "code",
   "execution_count": 41,
   "metadata": {},
   "outputs": [
    {
     "data": {
      "text/plain": [
       "3"
      ]
     },
     "execution_count": 41,
     "metadata": {},
     "output_type": "execute_result"
    }
   ],
   "source": [
    "s1.counter # call as object.variable"
   ]
  },
  {
   "cell_type": "code",
   "execution_count": 42,
   "metadata": {},
   "outputs": [
    {
     "data": {
      "text/plain": [
       "3"
      ]
     },
     "execution_count": 42,
     "metadata": {},
     "output_type": "execute_result"
    }
   ],
   "source": [
    "Student.counter # can also call as class.variable"
   ]
  },
  {
   "cell_type": "code",
   "execution_count": 46,
   "metadata": {},
   "outputs": [
    {
     "name": "stdout",
     "output_type": "stream",
     "text": [
      "Welcome  Ishra\n"
     ]
    }
   ],
   "source": [
    "s1.login('Ishra', \"123\")"
   ]
  },
  {
   "cell_type": "code",
   "execution_count": 51,
   "metadata": {},
   "outputs": [
    {
     "name": "stdout",
     "output_type": "stream",
     "text": [
      "abc\n"
     ]
    }
   ],
   "source": [
    "s1.dob = \"abc\" # another way of adding attribute\n",
    "print(s1.dob)"
   ]
  },
  {
   "cell_type": "code",
   "execution_count": 52,
   "metadata": {},
   "outputs": [],
   "source": [
    "del s1.dob"
   ]
  },
  {
   "cell_type": "markdown",
   "metadata": {},
   "source": [
    "# Inheritance:"
   ]
  },
  {
   "cell_type": "code",
   "execution_count": 57,
   "metadata": {},
   "outputs": [],
   "source": [
    "class parent():  # according to pep8 class name should have first letter capital so use Parent instead of parent\n",
    "    def __init__(self):\n",
    "        self.name = \"\"\n",
    "        self.fname = \"\"\n",
    "        \n",
    "    def speak(self, words = \"\"):\n",
    "        print(words, \"...\")\n",
    "        \n",
    "    def eat(self, food = \"chapati\"):\n",
    "        print(food)\n",
    "# pep8 naming convention in python"
   ]
  },
  {
   "cell_type": "code",
   "execution_count": 58,
   "metadata": {},
   "outputs": [],
   "source": [
    "class child(parent): # it has all parent's attributes and features inherited\n",
    "    pass"
   ]
  },
  {
   "cell_type": "code",
   "execution_count": 60,
   "metadata": {},
   "outputs": [
    {
     "name": "stdout",
     "output_type": "stream",
     "text": [
      "abc\n"
     ]
    }
   ],
   "source": [
    "p_obj1 = parent()\n",
    "p_obj1.name = \"abc\"\n",
    "print(p_obj1.name)"
   ]
  },
  {
   "cell_type": "code",
   "execution_count": 61,
   "metadata": {},
   "outputs": [],
   "source": [
    "c_obj1 = child()"
   ]
  },
  {
   "cell_type": "code",
   "execution_count": 62,
   "metadata": {},
   "outputs": [
    {
     "name": "stdout",
     "output_type": "stream",
     "text": [
      "Live long Pakistan ...\n"
     ]
    }
   ],
   "source": [
    "c_obj1.speak(\"Live long Pakistan\")"
   ]
  },
  {
   "cell_type": "code",
   "execution_count": 76,
   "metadata": {},
   "outputs": [],
   "source": [
    "class Father():  # accoding to pep8 class name should have first letter capital so use Parent instead of parent\n",
    "    def __init__(self):\n",
    "        self.eye_color = \"black\"\n",
    "        self.voice = \"loud\"\n",
    "        \n",
    "    def speak(self, words = \"\"):\n",
    "        print(words, \"...\")\n",
    "        \n",
    "    def eat(self, food = \"chapati\"):\n",
    "        print(food)"
   ]
  },
  {
   "cell_type": "code",
   "execution_count": 77,
   "metadata": {},
   "outputs": [],
   "source": [
    "class Mother():  # accoding to pep8 class name should have first letter capital so use Parent instead of parent\n",
    "    def __init__(self):\n",
    "        self.hair_color = \"brown\"\n",
    "        self.height = \"5.3 inch\"\n",
    "        \n",
    "    def speak(self, words = \"\"):\n",
    "        print(words, \"!!!\")\n",
    "        \n",
    "    def sleep(self, hours = 8):\n",
    "        print(hours)"
   ]
  },
  {
   "cell_type": "code",
   "execution_count": 82,
   "metadata": {},
   "outputs": [],
   "source": [
    "class child(Father, Mother): # it has all parent's attributes and features inherited\n",
    "    pass"
   ]
  },
  {
   "cell_type": "code",
   "execution_count": 85,
   "metadata": {},
   "outputs": [],
   "source": [
    "ishra = child()"
   ]
  },
  {
   "cell_type": "code",
   "execution_count": 86,
   "metadata": {},
   "outputs": [
    {
     "name": "stdout",
     "output_type": "stream",
     "text": [
      "Live long Pakistan ...\n"
     ]
    }
   ],
   "source": [
    "ishra.speak(\"Live long Pakistan\") # override as it takes from father attributes of speaking"
   ]
  },
  {
   "cell_type": "markdown",
   "metadata": {},
   "source": [
    "# Polymorphism"
   ]
  },
  {
   "cell_type": "markdown",
   "metadata": {},
   "source": [
    "## Overloading"
   ]
  },
  {
   "cell_type": "code",
   "execution_count": 5,
   "metadata": {},
   "outputs": [],
   "source": [
    "class A():\n",
    "    \"\"\"Give any number of arguments to this functions, \n",
    "    it will add\"\"\"\n",
    "    def abc(self, *n):\n",
    "        print(sum(n))"
   ]
  },
  {
   "cell_type": "code",
   "execution_count": 6,
   "metadata": {},
   "outputs": [
    {
     "name": "stdout",
     "output_type": "stream",
     "text": [
      "3\n",
      "14\n"
     ]
    }
   ],
   "source": [
    "obj1 = A()\n",
    "obj1.abc(1, 2)\n",
    "obj1.abc(1, 2, 4, 7)"
   ]
  },
  {
   "cell_type": "markdown",
   "metadata": {},
   "source": [
    "## Over-riding "
   ]
  },
  {
   "cell_type": "code",
   "execution_count": 1,
   "metadata": {},
   "outputs": [],
   "source": [
    "class A():\n",
    "    def abc(self, a):\n",
    "        print(a)\n",
    "    def abc(self, a, b):\n",
    "        print(a + b)"
   ]
  },
  {
   "cell_type": "code",
   "execution_count": 2,
   "metadata": {},
   "outputs": [],
   "source": [
    "obj1 = A()"
   ]
  },
  {
   "cell_type": "code",
   "execution_count": 90,
   "metadata": {},
   "outputs": [
    {
     "name": "stdout",
     "output_type": "stream",
     "text": [
      "3\n"
     ]
    }
   ],
   "source": [
    "obj1.abc(1, 2) # it is overriding when we press tab shows latest function"
   ]
  },
  {
   "cell_type": "code",
   "execution_count": 96,
   "metadata": {},
   "outputs": [],
   "source": [
    "class A():\n",
    "    def speak(self):\n",
    "        print(\"Speak Function class A\")\n",
    "\n",
    "class B(A):\n",
    "    def speak(self):\n",
    "        print(\"Speak function class B\")"
   ]
  },
  {
   "cell_type": "code",
   "execution_count": 97,
   "metadata": {},
   "outputs": [
    {
     "name": "stdout",
     "output_type": "stream",
     "text": [
      "Speak function class B\n"
     ]
    }
   ],
   "source": [
    "obj1 = B()\n",
    "obj1.speak() #example of overriding"
   ]
  },
  {
   "cell_type": "code",
   "execution_count": null,
   "metadata": {},
   "outputs": [],
   "source": [
    " "
   ]
  }
 ],
 "metadata": {
  "kernelspec": {
   "display_name": "Python 3",
   "language": "python",
   "name": "python3"
  },
  "language_info": {
   "codemirror_mode": {
    "name": "ipython",
    "version": 3
   },
   "file_extension": ".py",
   "mimetype": "text/x-python",
   "name": "python",
   "nbconvert_exporter": "python",
   "pygments_lexer": "ipython3",
   "version": "3.7.3"
  }
 },
 "nbformat": 4,
 "nbformat_minor": 2
}
